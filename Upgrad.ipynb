{
  "nbformat": 4,
  "nbformat_minor": 0,
  "metadata": {
    "colab": {
      "name": "Upgrad.ipynb",
      "version": "0.3.2",
      "provenance": [],
      "include_colab_link": true
    },
    "kernelspec": {
      "display_name": "Python 3",
      "language": "python",
      "name": "python3"
    }
  },
  "cells": [
    {
      "cell_type": "markdown",
      "metadata": {
        "id": "view-in-github",
        "colab_type": "text"
      },
      "source": [
        "<a href=\"https://colab.research.google.com/github/animeshdutta888/Upgrad/blob/master/Upgrad.ipynb\" target=\"_parent\"><img src=\"https://colab.research.google.com/assets/colab-badge.svg\" alt=\"Open In Colab\"/></a>"
      ]
    },
    {
      "metadata": {
        "id": "50SaehwqTJqa",
        "colab_type": "code",
        "colab": {}
      },
      "cell_type": "code",
      "source": [
        "# !wget --header=\"Host: doc-0g-bk-docs.googleusercontent.com\" --header=\"User-Agent: Mozilla/5.0 (X11; Linux x86_64) AppleWebKit/537.36 (KHTML, like Gecko) Chrome/73.0.3683.75 Safari/537.36\" --header=\"Accept: text/html,application/xhtml+xml,application/xml;q=0.9,image/webp,image/apng,*/*;q=0.8\" --header=\"Accept-Language: en-US,en-IN;q=0.9,en;q=0.8\" --header=\"Referer: https://drive.google.com/uc?id=1wpOtr264MFYrN1QVkpHug_jJ2Z8Eik85&export=download\" --header=\"Cookie: AUTH_4bopc2hc8l34lnvure9p0f69o32upi3p_nonce=c6uhnue2s1nko; NID=162=dN9p5hojnjtNxQlJ9H2wVK1aumNobi8Aj0XWAhkg1hB7Er3vQZtHYlT86HCBYZfQHWz2bZi0FMmtHi_CP1aRF1PDB5BUzZSv-do9OFo2fvh04TdWdU78G3sj7dgsk3507V0Z6CJI9WxFGbvff9Db8ZV_NzjATAcjWKXMnQSlCUE\" --header=\"Connection: keep-alive\" \"https://doc-0g-bk-docs.googleusercontent.com/docs/securesc/psusq0mr93vn4rl25l4i1rlqvv3toc55/dbkm7hhtpisdqqpcd6m4f63c823h601k/1553911200000/02500186615322573913/17243280734409231109/1wpOtr264MFYrN1QVkpHug_jJ2Z8Eik85?e=download&nonce=c6uhnue2s1nko&user=17243280734409231109&hash=bh3d9i0jjqu8hrhfch84konrpitqaj26\" -O \"train.zip\" -c"
      ],
      "execution_count": 0,
      "outputs": []
    },
    {
      "metadata": {
        "id": "axbUBdqZTajz",
        "colab_type": "code",
        "outputId": "1cbd1c1b-9b90-49bb-e33a-18a7aa42b53b",
        "colab": {
          "base_uri": "https://localhost:8080/",
          "height": 34
        }
      },
      "cell_type": "code",
      "source": [
        "import numpy as np\n",
        "import pandas as pd\n",
        "from sklearn.ensemble import RandomForestClassifier\n",
        "from sklearn import datasets\n",
        "from sklearn.model_selection import train_test_split\n",
        "from sklearn.feature_selection import SelectFromModel\n",
        "from sklearn.metrics import accuracy_score\n",
        "from google.colab import drive\n",
        "drive.mount('/content/drive/')"
      ],
      "execution_count": 299,
      "outputs": [
        {
          "output_type": "stream",
          "text": [
            "Drive already mounted at /content/drive/; to attempt to forcibly remount, call drive.mount(\"/content/drive/\", force_remount=True).\n"
          ],
          "name": "stdout"
        }
      ]
    },
    {
      "metadata": {
        "id": "6jesg5DkTJqs",
        "colab_type": "code",
        "colab": {
          "base_uri": "https://localhost:8080/",
          "height": 408
        },
        "outputId": "9610cb59-c6d9-499d-cb15-a92626452984"
      },
      "cell_type": "code",
      "source": [
        "train_df = pd.read_csv('/content/drive/My Drive/upgrad/bank-additional-full.csv',sep=';')\n",
        "train_df = train_df.replace(\"unknown\", np.NaN)\n",
        "# print the first 20 rows of data\n",
        "print(train_df.isnull().sum())\n",
        "print(train_df.shape)"
      ],
      "execution_count": 300,
      "outputs": [
        {
          "output_type": "stream",
          "text": [
            "age                  0\n",
            "job                330\n",
            "marital             80\n",
            "education         1731\n",
            "default           8597\n",
            "housing            990\n",
            "loan               990\n",
            "contact              0\n",
            "month                0\n",
            "day_of_week          0\n",
            "duration             0\n",
            "campaign             0\n",
            "pdays                0\n",
            "previous             0\n",
            "poutcome             0\n",
            "emp.var.rate         0\n",
            "cons.price.idx       0\n",
            "cons.conf.idx        0\n",
            "euribor3m            0\n",
            "nr.employed          0\n",
            "y                    0\n",
            "dtype: int64\n",
            "(41188, 21)\n"
          ],
          "name": "stdout"
        }
      ]
    },
    {
      "metadata": {
        "id": "gOmTU0sspM2v",
        "colab_type": "code",
        "colab": {
          "base_uri": "https://localhost:8080/",
          "height": 34
        },
        "outputId": "800ffaa6-077a-4163-e92b-f1dad51e9a57"
      },
      "cell_type": "code",
      "source": [
        "# drop rows with missing values\n",
        "train_df.dropna(inplace=True)\n",
        "# summarize the number of rows and columns in the dataset\n",
        "print(train_df.shape)"
      ],
      "execution_count": 301,
      "outputs": [
        {
          "output_type": "stream",
          "text": [
            "(30488, 21)\n"
          ],
          "name": "stdout"
        }
      ]
    },
    {
      "metadata": {
        "id": "WpN7gDRETJqh",
        "colab_type": "code",
        "outputId": "f9f5e571-1201-4b56-d17a-5eccedc57d94",
        "colab": {
          "base_uri": "https://localhost:8080/",
          "height": 253
        }
      },
      "cell_type": "code",
      "source": [
        "train_df.head()"
      ],
      "execution_count": 302,
      "outputs": [
        {
          "output_type": "execute_result",
          "data": {
            "text/html": [
              "<div>\n",
              "<style scoped>\n",
              "    .dataframe tbody tr th:only-of-type {\n",
              "        vertical-align: middle;\n",
              "    }\n",
              "\n",
              "    .dataframe tbody tr th {\n",
              "        vertical-align: top;\n",
              "    }\n",
              "\n",
              "    .dataframe thead th {\n",
              "        text-align: right;\n",
              "    }\n",
              "</style>\n",
              "<table border=\"1\" class=\"dataframe\">\n",
              "  <thead>\n",
              "    <tr style=\"text-align: right;\">\n",
              "      <th></th>\n",
              "      <th>age</th>\n",
              "      <th>job</th>\n",
              "      <th>marital</th>\n",
              "      <th>education</th>\n",
              "      <th>default</th>\n",
              "      <th>housing</th>\n",
              "      <th>loan</th>\n",
              "      <th>contact</th>\n",
              "      <th>month</th>\n",
              "      <th>day_of_week</th>\n",
              "      <th>...</th>\n",
              "      <th>campaign</th>\n",
              "      <th>pdays</th>\n",
              "      <th>previous</th>\n",
              "      <th>poutcome</th>\n",
              "      <th>emp.var.rate</th>\n",
              "      <th>cons.price.idx</th>\n",
              "      <th>cons.conf.idx</th>\n",
              "      <th>euribor3m</th>\n",
              "      <th>nr.employed</th>\n",
              "      <th>y</th>\n",
              "    </tr>\n",
              "  </thead>\n",
              "  <tbody>\n",
              "    <tr>\n",
              "      <th>0</th>\n",
              "      <td>56</td>\n",
              "      <td>housemaid</td>\n",
              "      <td>married</td>\n",
              "      <td>basic.4y</td>\n",
              "      <td>no</td>\n",
              "      <td>no</td>\n",
              "      <td>no</td>\n",
              "      <td>telephone</td>\n",
              "      <td>may</td>\n",
              "      <td>mon</td>\n",
              "      <td>...</td>\n",
              "      <td>1</td>\n",
              "      <td>999</td>\n",
              "      <td>0</td>\n",
              "      <td>nonexistent</td>\n",
              "      <td>1.1</td>\n",
              "      <td>93.994</td>\n",
              "      <td>-36.4</td>\n",
              "      <td>4.857</td>\n",
              "      <td>5191.0</td>\n",
              "      <td>no</td>\n",
              "    </tr>\n",
              "    <tr>\n",
              "      <th>2</th>\n",
              "      <td>37</td>\n",
              "      <td>services</td>\n",
              "      <td>married</td>\n",
              "      <td>high.school</td>\n",
              "      <td>no</td>\n",
              "      <td>yes</td>\n",
              "      <td>no</td>\n",
              "      <td>telephone</td>\n",
              "      <td>may</td>\n",
              "      <td>mon</td>\n",
              "      <td>...</td>\n",
              "      <td>1</td>\n",
              "      <td>999</td>\n",
              "      <td>0</td>\n",
              "      <td>nonexistent</td>\n",
              "      <td>1.1</td>\n",
              "      <td>93.994</td>\n",
              "      <td>-36.4</td>\n",
              "      <td>4.857</td>\n",
              "      <td>5191.0</td>\n",
              "      <td>no</td>\n",
              "    </tr>\n",
              "    <tr>\n",
              "      <th>3</th>\n",
              "      <td>40</td>\n",
              "      <td>admin.</td>\n",
              "      <td>married</td>\n",
              "      <td>basic.6y</td>\n",
              "      <td>no</td>\n",
              "      <td>no</td>\n",
              "      <td>no</td>\n",
              "      <td>telephone</td>\n",
              "      <td>may</td>\n",
              "      <td>mon</td>\n",
              "      <td>...</td>\n",
              "      <td>1</td>\n",
              "      <td>999</td>\n",
              "      <td>0</td>\n",
              "      <td>nonexistent</td>\n",
              "      <td>1.1</td>\n",
              "      <td>93.994</td>\n",
              "      <td>-36.4</td>\n",
              "      <td>4.857</td>\n",
              "      <td>5191.0</td>\n",
              "      <td>no</td>\n",
              "    </tr>\n",
              "    <tr>\n",
              "      <th>4</th>\n",
              "      <td>56</td>\n",
              "      <td>services</td>\n",
              "      <td>married</td>\n",
              "      <td>high.school</td>\n",
              "      <td>no</td>\n",
              "      <td>no</td>\n",
              "      <td>yes</td>\n",
              "      <td>telephone</td>\n",
              "      <td>may</td>\n",
              "      <td>mon</td>\n",
              "      <td>...</td>\n",
              "      <td>1</td>\n",
              "      <td>999</td>\n",
              "      <td>0</td>\n",
              "      <td>nonexistent</td>\n",
              "      <td>1.1</td>\n",
              "      <td>93.994</td>\n",
              "      <td>-36.4</td>\n",
              "      <td>4.857</td>\n",
              "      <td>5191.0</td>\n",
              "      <td>no</td>\n",
              "    </tr>\n",
              "    <tr>\n",
              "      <th>6</th>\n",
              "      <td>59</td>\n",
              "      <td>admin.</td>\n",
              "      <td>married</td>\n",
              "      <td>professional.course</td>\n",
              "      <td>no</td>\n",
              "      <td>no</td>\n",
              "      <td>no</td>\n",
              "      <td>telephone</td>\n",
              "      <td>may</td>\n",
              "      <td>mon</td>\n",
              "      <td>...</td>\n",
              "      <td>1</td>\n",
              "      <td>999</td>\n",
              "      <td>0</td>\n",
              "      <td>nonexistent</td>\n",
              "      <td>1.1</td>\n",
              "      <td>93.994</td>\n",
              "      <td>-36.4</td>\n",
              "      <td>4.857</td>\n",
              "      <td>5191.0</td>\n",
              "      <td>no</td>\n",
              "    </tr>\n",
              "  </tbody>\n",
              "</table>\n",
              "<p>5 rows × 21 columns</p>\n",
              "</div>"
            ],
            "text/plain": [
              "   age        job  marital            education default housing loan  \\\n",
              "0   56  housemaid  married             basic.4y      no      no   no   \n",
              "2   37   services  married          high.school      no     yes   no   \n",
              "3   40     admin.  married             basic.6y      no      no   no   \n",
              "4   56   services  married          high.school      no      no  yes   \n",
              "6   59     admin.  married  professional.course      no      no   no   \n",
              "\n",
              "     contact month day_of_week ...  campaign  pdays  previous     poutcome  \\\n",
              "0  telephone   may         mon ...         1    999         0  nonexistent   \n",
              "2  telephone   may         mon ...         1    999         0  nonexistent   \n",
              "3  telephone   may         mon ...         1    999         0  nonexistent   \n",
              "4  telephone   may         mon ...         1    999         0  nonexistent   \n",
              "6  telephone   may         mon ...         1    999         0  nonexistent   \n",
              "\n",
              "  emp.var.rate  cons.price.idx  cons.conf.idx  euribor3m  nr.employed   y  \n",
              "0          1.1          93.994          -36.4      4.857       5191.0  no  \n",
              "2          1.1          93.994          -36.4      4.857       5191.0  no  \n",
              "3          1.1          93.994          -36.4      4.857       5191.0  no  \n",
              "4          1.1          93.994          -36.4      4.857       5191.0  no  \n",
              "6          1.1          93.994          -36.4      4.857       5191.0  no  \n",
              "\n",
              "[5 rows x 21 columns]"
            ]
          },
          "metadata": {
            "tags": []
          },
          "execution_count": 302
        }
      ]
    },
    {
      "metadata": {
        "id": "7L28DXlpTJqm",
        "colab_type": "code",
        "outputId": "ef76c57c-9ad6-47de-937e-21e7e1d3ce9a",
        "colab": {
          "base_uri": "https://localhost:8080/",
          "height": 359
        }
      },
      "cell_type": "code",
      "source": [
        "train_df.corr()"
      ],
      "execution_count": 303,
      "outputs": [
        {
          "output_type": "execute_result",
          "data": {
            "text/html": [
              "<div>\n",
              "<style scoped>\n",
              "    .dataframe tbody tr th:only-of-type {\n",
              "        vertical-align: middle;\n",
              "    }\n",
              "\n",
              "    .dataframe tbody tr th {\n",
              "        vertical-align: top;\n",
              "    }\n",
              "\n",
              "    .dataframe thead th {\n",
              "        text-align: right;\n",
              "    }\n",
              "</style>\n",
              "<table border=\"1\" class=\"dataframe\">\n",
              "  <thead>\n",
              "    <tr style=\"text-align: right;\">\n",
              "      <th></th>\n",
              "      <th>age</th>\n",
              "      <th>duration</th>\n",
              "      <th>campaign</th>\n",
              "      <th>pdays</th>\n",
              "      <th>previous</th>\n",
              "      <th>emp.var.rate</th>\n",
              "      <th>cons.price.idx</th>\n",
              "      <th>cons.conf.idx</th>\n",
              "      <th>euribor3m</th>\n",
              "      <th>nr.employed</th>\n",
              "    </tr>\n",
              "  </thead>\n",
              "  <tbody>\n",
              "    <tr>\n",
              "      <th>age</th>\n",
              "      <td>1.000000</td>\n",
              "      <td>0.007910</td>\n",
              "      <td>-0.002364</td>\n",
              "      <td>-0.050891</td>\n",
              "      <td>0.049231</td>\n",
              "      <td>-0.050409</td>\n",
              "      <td>-0.035762</td>\n",
              "      <td>0.125017</td>\n",
              "      <td>-0.036481</td>\n",
              "      <td>-0.064586</td>\n",
              "    </tr>\n",
              "    <tr>\n",
              "      <th>duration</th>\n",
              "      <td>0.007910</td>\n",
              "      <td>1.000000</td>\n",
              "      <td>-0.068406</td>\n",
              "      <td>-0.046239</td>\n",
              "      <td>0.018772</td>\n",
              "      <td>-0.023374</td>\n",
              "      <td>0.012768</td>\n",
              "      <td>-0.009525</td>\n",
              "      <td>-0.028922</td>\n",
              "      <td>-0.040367</td>\n",
              "    </tr>\n",
              "    <tr>\n",
              "      <th>campaign</th>\n",
              "      <td>-0.002364</td>\n",
              "      <td>-0.068406</td>\n",
              "      <td>1.000000</td>\n",
              "      <td>0.054312</td>\n",
              "      <td>-0.080766</td>\n",
              "      <td>0.157739</td>\n",
              "      <td>0.127260</td>\n",
              "      <td>-0.011664</td>\n",
              "      <td>0.140836</td>\n",
              "      <td>0.148069</td>\n",
              "    </tr>\n",
              "    <tr>\n",
              "      <th>pdays</th>\n",
              "      <td>-0.050891</td>\n",
              "      <td>-0.046239</td>\n",
              "      <td>0.054312</td>\n",
              "      <td>1.000000</td>\n",
              "      <td>-0.590248</td>\n",
              "      <td>0.268763</td>\n",
              "      <td>0.068010</td>\n",
              "      <td>-0.102368</td>\n",
              "      <td>0.295188</td>\n",
              "      <td>0.370845</td>\n",
              "    </tr>\n",
              "    <tr>\n",
              "      <th>previous</th>\n",
              "      <td>0.049231</td>\n",
              "      <td>0.018772</td>\n",
              "      <td>-0.080766</td>\n",
              "      <td>-0.590248</td>\n",
              "      <td>1.000000</td>\n",
              "      <td>-0.403502</td>\n",
              "      <td>-0.176775</td>\n",
              "      <td>-0.027930</td>\n",
              "      <td>-0.438863</td>\n",
              "      <td>-0.488365</td>\n",
              "    </tr>\n",
              "    <tr>\n",
              "      <th>emp.var.rate</th>\n",
              "      <td>-0.050409</td>\n",
              "      <td>-0.023374</td>\n",
              "      <td>0.157739</td>\n",
              "      <td>0.268763</td>\n",
              "      <td>-0.403502</td>\n",
              "      <td>1.000000</td>\n",
              "      <td>0.766055</td>\n",
              "      <td>0.157593</td>\n",
              "      <td>0.969412</td>\n",
              "      <td>0.900390</td>\n",
              "    </tr>\n",
              "    <tr>\n",
              "      <th>cons.price.idx</th>\n",
              "      <td>-0.035762</td>\n",
              "      <td>0.012768</td>\n",
              "      <td>0.127260</td>\n",
              "      <td>0.068010</td>\n",
              "      <td>-0.176775</td>\n",
              "      <td>0.766055</td>\n",
              "      <td>1.000000</td>\n",
              "      <td>0.027217</td>\n",
              "      <td>0.667292</td>\n",
              "      <td>0.488871</td>\n",
              "    </tr>\n",
              "    <tr>\n",
              "      <th>cons.conf.idx</th>\n",
              "      <td>0.125017</td>\n",
              "      <td>-0.009525</td>\n",
              "      <td>-0.011664</td>\n",
              "      <td>-0.102368</td>\n",
              "      <td>-0.027930</td>\n",
              "      <td>0.157593</td>\n",
              "      <td>0.027217</td>\n",
              "      <td>1.000000</td>\n",
              "      <td>0.243637</td>\n",
              "      <td>0.075283</td>\n",
              "    </tr>\n",
              "    <tr>\n",
              "      <th>euribor3m</th>\n",
              "      <td>-0.036481</td>\n",
              "      <td>-0.028922</td>\n",
              "      <td>0.140836</td>\n",
              "      <td>0.295188</td>\n",
              "      <td>-0.438863</td>\n",
              "      <td>0.969412</td>\n",
              "      <td>0.667292</td>\n",
              "      <td>0.243637</td>\n",
              "      <td>1.000000</td>\n",
              "      <td>0.944871</td>\n",
              "    </tr>\n",
              "    <tr>\n",
              "      <th>nr.employed</th>\n",
              "      <td>-0.064586</td>\n",
              "      <td>-0.040367</td>\n",
              "      <td>0.148069</td>\n",
              "      <td>0.370845</td>\n",
              "      <td>-0.488365</td>\n",
              "      <td>0.900390</td>\n",
              "      <td>0.488871</td>\n",
              "      <td>0.075283</td>\n",
              "      <td>0.944871</td>\n",
              "      <td>1.000000</td>\n",
              "    </tr>\n",
              "  </tbody>\n",
              "</table>\n",
              "</div>"
            ],
            "text/plain": [
              "                     age  duration  campaign     pdays  previous  \\\n",
              "age             1.000000  0.007910 -0.002364 -0.050891  0.049231   \n",
              "duration        0.007910  1.000000 -0.068406 -0.046239  0.018772   \n",
              "campaign       -0.002364 -0.068406  1.000000  0.054312 -0.080766   \n",
              "pdays          -0.050891 -0.046239  0.054312  1.000000 -0.590248   \n",
              "previous        0.049231  0.018772 -0.080766 -0.590248  1.000000   \n",
              "emp.var.rate   -0.050409 -0.023374  0.157739  0.268763 -0.403502   \n",
              "cons.price.idx -0.035762  0.012768  0.127260  0.068010 -0.176775   \n",
              "cons.conf.idx   0.125017 -0.009525 -0.011664 -0.102368 -0.027930   \n",
              "euribor3m      -0.036481 -0.028922  0.140836  0.295188 -0.438863   \n",
              "nr.employed    -0.064586 -0.040367  0.148069  0.370845 -0.488365   \n",
              "\n",
              "                emp.var.rate  cons.price.idx  cons.conf.idx  euribor3m  \\\n",
              "age                -0.050409       -0.035762       0.125017  -0.036481   \n",
              "duration           -0.023374        0.012768      -0.009525  -0.028922   \n",
              "campaign            0.157739        0.127260      -0.011664   0.140836   \n",
              "pdays               0.268763        0.068010      -0.102368   0.295188   \n",
              "previous           -0.403502       -0.176775      -0.027930  -0.438863   \n",
              "emp.var.rate        1.000000        0.766055       0.157593   0.969412   \n",
              "cons.price.idx      0.766055        1.000000       0.027217   0.667292   \n",
              "cons.conf.idx       0.157593        0.027217       1.000000   0.243637   \n",
              "euribor3m           0.969412        0.667292       0.243637   1.000000   \n",
              "nr.employed         0.900390        0.488871       0.075283   0.944871   \n",
              "\n",
              "                nr.employed  \n",
              "age               -0.064586  \n",
              "duration          -0.040367  \n",
              "campaign           0.148069  \n",
              "pdays              0.370845  \n",
              "previous          -0.488365  \n",
              "emp.var.rate       0.900390  \n",
              "cons.price.idx     0.488871  \n",
              "cons.conf.idx      0.075283  \n",
              "euribor3m          0.944871  \n",
              "nr.employed        1.000000  "
            ]
          },
          "metadata": {
            "tags": []
          },
          "execution_count": 303
        }
      ]
    },
    {
      "metadata": {
        "id": "unR9FCmyTJqo",
        "colab_type": "code",
        "colab": {}
      },
      "cell_type": "code",
      "source": [
        "train_df.drop(['euribor3m','nr.employed'],axis=1,inplace=True)"
      ],
      "execution_count": 0,
      "outputs": []
    },
    {
      "metadata": {
        "id": "QIn0i1FTTJqv",
        "colab_type": "code",
        "colab": {}
      },
      "cell_type": "code",
      "source": [
        "train_df.y=train_df.y.eq('yes').mul(1)\n"
      ],
      "execution_count": 0,
      "outputs": []
    },
    {
      "metadata": {
        "id": "rlJstORHz9tN",
        "colab_type": "code",
        "colab": {
          "base_uri": "https://localhost:8080/",
          "height": 85
        },
        "outputId": "636dcf05-d159-4485-87eb-36619686295a"
      },
      "cell_type": "code",
      "source": [
        "train_df.groupby(['y']).size()\n"
      ],
      "execution_count": 306,
      "outputs": [
        {
          "output_type": "execute_result",
          "data": {
            "text/plain": [
              "y\n",
              "0    26629\n",
              "1     3859\n",
              "dtype: int64"
            ]
          },
          "metadata": {
            "tags": []
          },
          "execution_count": 306
        }
      ]
    },
    {
      "metadata": {
        "id": "zWP7U2l9QvVP",
        "colab_type": "code",
        "colab": {}
      },
      "cell_type": "code",
      "source": [
        "train_df[\"duration\"] = train_df[\"duration\"] / train_df[\"duration\"].max()\n",
        "\n"
      ],
      "execution_count": 0,
      "outputs": []
    },
    {
      "metadata": {
        "id": "Eo1xWOjTayFx",
        "colab_type": "code",
        "outputId": "6e9d77fa-c404-4a2e-dd6c-834ac37d9df9",
        "colab": {
          "base_uri": "https://localhost:8080/",
          "height": 253
        }
      },
      "cell_type": "code",
      "source": [
        "X = pd.get_dummies(train_df, prefix_sep='_', drop_first=False)\n",
        "X.head()\n",
        "\n",
        "\n"
      ],
      "execution_count": 308,
      "outputs": [
        {
          "output_type": "execute_result",
          "data": {
            "text/html": [
              "<div>\n",
              "<style scoped>\n",
              "    .dataframe tbody tr th:only-of-type {\n",
              "        vertical-align: middle;\n",
              "    }\n",
              "\n",
              "    .dataframe tbody tr th {\n",
              "        vertical-align: top;\n",
              "    }\n",
              "\n",
              "    .dataframe thead th {\n",
              "        text-align: right;\n",
              "    }\n",
              "</style>\n",
              "<table border=\"1\" class=\"dataframe\">\n",
              "  <thead>\n",
              "    <tr style=\"text-align: right;\">\n",
              "      <th></th>\n",
              "      <th>age</th>\n",
              "      <th>duration</th>\n",
              "      <th>campaign</th>\n",
              "      <th>pdays</th>\n",
              "      <th>previous</th>\n",
              "      <th>emp.var.rate</th>\n",
              "      <th>cons.price.idx</th>\n",
              "      <th>cons.conf.idx</th>\n",
              "      <th>y</th>\n",
              "      <th>job_admin.</th>\n",
              "      <th>...</th>\n",
              "      <th>month_oct</th>\n",
              "      <th>month_sep</th>\n",
              "      <th>day_of_week_fri</th>\n",
              "      <th>day_of_week_mon</th>\n",
              "      <th>day_of_week_thu</th>\n",
              "      <th>day_of_week_tue</th>\n",
              "      <th>day_of_week_wed</th>\n",
              "      <th>poutcome_failure</th>\n",
              "      <th>poutcome_nonexistent</th>\n",
              "      <th>poutcome_success</th>\n",
              "    </tr>\n",
              "  </thead>\n",
              "  <tbody>\n",
              "    <tr>\n",
              "      <th>0</th>\n",
              "      <td>56</td>\n",
              "      <td>0.053070</td>\n",
              "      <td>1</td>\n",
              "      <td>999</td>\n",
              "      <td>0</td>\n",
              "      <td>1.1</td>\n",
              "      <td>93.994</td>\n",
              "      <td>-36.4</td>\n",
              "      <td>0</td>\n",
              "      <td>0</td>\n",
              "      <td>...</td>\n",
              "      <td>0</td>\n",
              "      <td>0</td>\n",
              "      <td>0</td>\n",
              "      <td>1</td>\n",
              "      <td>0</td>\n",
              "      <td>0</td>\n",
              "      <td>0</td>\n",
              "      <td>0</td>\n",
              "      <td>1</td>\n",
              "      <td>0</td>\n",
              "    </tr>\n",
              "    <tr>\n",
              "      <th>2</th>\n",
              "      <td>37</td>\n",
              "      <td>0.045954</td>\n",
              "      <td>1</td>\n",
              "      <td>999</td>\n",
              "      <td>0</td>\n",
              "      <td>1.1</td>\n",
              "      <td>93.994</td>\n",
              "      <td>-36.4</td>\n",
              "      <td>0</td>\n",
              "      <td>0</td>\n",
              "      <td>...</td>\n",
              "      <td>0</td>\n",
              "      <td>0</td>\n",
              "      <td>0</td>\n",
              "      <td>1</td>\n",
              "      <td>0</td>\n",
              "      <td>0</td>\n",
              "      <td>0</td>\n",
              "      <td>0</td>\n",
              "      <td>1</td>\n",
              "      <td>0</td>\n",
              "    </tr>\n",
              "    <tr>\n",
              "      <th>3</th>\n",
              "      <td>40</td>\n",
              "      <td>0.030704</td>\n",
              "      <td>1</td>\n",
              "      <td>999</td>\n",
              "      <td>0</td>\n",
              "      <td>1.1</td>\n",
              "      <td>93.994</td>\n",
              "      <td>-36.4</td>\n",
              "      <td>0</td>\n",
              "      <td>1</td>\n",
              "      <td>...</td>\n",
              "      <td>0</td>\n",
              "      <td>0</td>\n",
              "      <td>0</td>\n",
              "      <td>1</td>\n",
              "      <td>0</td>\n",
              "      <td>0</td>\n",
              "      <td>0</td>\n",
              "      <td>0</td>\n",
              "      <td>1</td>\n",
              "      <td>0</td>\n",
              "    </tr>\n",
              "    <tr>\n",
              "      <th>4</th>\n",
              "      <td>56</td>\n",
              "      <td>0.062424</td>\n",
              "      <td>1</td>\n",
              "      <td>999</td>\n",
              "      <td>0</td>\n",
              "      <td>1.1</td>\n",
              "      <td>93.994</td>\n",
              "      <td>-36.4</td>\n",
              "      <td>0</td>\n",
              "      <td>0</td>\n",
              "      <td>...</td>\n",
              "      <td>0</td>\n",
              "      <td>0</td>\n",
              "      <td>0</td>\n",
              "      <td>1</td>\n",
              "      <td>0</td>\n",
              "      <td>0</td>\n",
              "      <td>0</td>\n",
              "      <td>0</td>\n",
              "      <td>1</td>\n",
              "      <td>0</td>\n",
              "    </tr>\n",
              "    <tr>\n",
              "      <th>6</th>\n",
              "      <td>59</td>\n",
              "      <td>0.028264</td>\n",
              "      <td>1</td>\n",
              "      <td>999</td>\n",
              "      <td>0</td>\n",
              "      <td>1.1</td>\n",
              "      <td>93.994</td>\n",
              "      <td>-36.4</td>\n",
              "      <td>0</td>\n",
              "      <td>1</td>\n",
              "      <td>...</td>\n",
              "      <td>0</td>\n",
              "      <td>0</td>\n",
              "      <td>0</td>\n",
              "      <td>1</td>\n",
              "      <td>0</td>\n",
              "      <td>0</td>\n",
              "      <td>0</td>\n",
              "      <td>0</td>\n",
              "      <td>1</td>\n",
              "      <td>0</td>\n",
              "    </tr>\n",
              "  </tbody>\n",
              "</table>\n",
              "<p>5 rows × 56 columns</p>\n",
              "</div>"
            ],
            "text/plain": [
              "   age  duration  campaign  pdays  previous  emp.var.rate  cons.price.idx  \\\n",
              "0   56  0.053070         1    999         0           1.1          93.994   \n",
              "2   37  0.045954         1    999         0           1.1          93.994   \n",
              "3   40  0.030704         1    999         0           1.1          93.994   \n",
              "4   56  0.062424         1    999         0           1.1          93.994   \n",
              "6   59  0.028264         1    999         0           1.1          93.994   \n",
              "\n",
              "   cons.conf.idx  y  job_admin.        ...         month_oct  month_sep  \\\n",
              "0          -36.4  0           0        ...                 0          0   \n",
              "2          -36.4  0           0        ...                 0          0   \n",
              "3          -36.4  0           1        ...                 0          0   \n",
              "4          -36.4  0           0        ...                 0          0   \n",
              "6          -36.4  0           1        ...                 0          0   \n",
              "\n",
              "   day_of_week_fri  day_of_week_mon  day_of_week_thu  day_of_week_tue  \\\n",
              "0                0                1                0                0   \n",
              "2                0                1                0                0   \n",
              "3                0                1                0                0   \n",
              "4                0                1                0                0   \n",
              "6                0                1                0                0   \n",
              "\n",
              "   day_of_week_wed  poutcome_failure  poutcome_nonexistent  poutcome_success  \n",
              "0                0                 0                     1                 0  \n",
              "2                0                 0                     1                 0  \n",
              "3                0                 0                     1                 0  \n",
              "4                0                 0                     1                 0  \n",
              "6                0                 0                     1                 0  \n",
              "\n",
              "[5 rows x 56 columns]"
            ]
          },
          "metadata": {
            "tags": []
          },
          "execution_count": 308
        }
      ]
    },
    {
      "metadata": {
        "id": "9nT-2FJoQwm8",
        "colab_type": "code",
        "colab": {}
      },
      "cell_type": "code",
      "source": [
        ""
      ],
      "execution_count": 0,
      "outputs": []
    },
    {
      "metadata": {
        "id": "HwcKcdNxWIw9",
        "colab_type": "code",
        "colab": {}
      },
      "cell_type": "code",
      "source": [
        "from sklearn.model_selection import train_test_split\n",
        "\n",
        "# We'll use this library to make the display pretty\n",
        "from tabulate import tabulate"
      ],
      "execution_count": 0,
      "outputs": []
    },
    {
      "metadata": {
        "id": "V8h28QjNWKvU",
        "colab_type": "code",
        "colab": {}
      },
      "cell_type": "code",
      "source": [
        ""
      ],
      "execution_count": 0,
      "outputs": []
    },
    {
      "metadata": {
        "id": "D309KplwYleC",
        "colab_type": "code",
        "colab": {}
      },
      "cell_type": "code",
      "source": [
        "y = X.y\n",
        "X = X.drop([\"y\"], axis=1)\n",
        "list1=X.columns.values.tolist()\n",
        "\n",
        "X_train, X_test, y_train, y_test = train_test_split(X, y, random_state=42, test_size=.30)\n"
      ],
      "execution_count": 0,
      "outputs": []
    },
    {
      "metadata": {
        "id": "r026ohgj3jYq",
        "colab_type": "code",
        "colab": {
          "base_uri": "https://localhost:8080/",
          "height": 969
        },
        "outputId": "fb624296-66bb-4f3a-800d-354e67689279"
      },
      "cell_type": "code",
      "source": [
        "from sklearn.ensemble import RandomForestClassifier\n",
        "\n",
        "#Create a Gaussian Classifier\n",
        "clf=RandomForestClassifier(n_estimators=100)\n",
        "\n",
        "#Train the model using the training sets y_pred=clf.predict(X_test)\n",
        "clf.fit(X_train,y_train)\n",
        "RandomForestClassifier(bootstrap=True, class_weight=None, criterion='gini',\n",
        "            max_depth=None, max_features='auto', max_leaf_nodes=None,\n",
        "            min_impurity_decrease=0.0, min_impurity_split=None,\n",
        "            min_samples_leaf=1, min_samples_split=2,\n",
        "            min_weight_fraction_leaf=0.0, n_estimators=500, n_jobs=2,\n",
        "            oob_score=False, random_state=None, verbose=0,\n",
        "            warm_start=False)\n",
        "import pandas as pd\n",
        "feature_imp = pd.Series(clf.feature_importances_,index=list1).sort_values(ascending=True)\n",
        "feature_imp"
      ],
      "execution_count": 321,
      "outputs": [
        {
          "output_type": "execute_result",
          "data": {
            "text/plain": [
              "default_no                       9.427386e-10\n",
              "default_yes                      1.286444e-07\n",
              "education_illiterate             1.942103e-04\n",
              "month_dec                        1.166059e-03\n",
              "job_housemaid                    2.940853e-03\n",
              "month_aug                        3.970740e-03\n",
              "month_jul                        4.007401e-03\n",
              "month_nov                        4.023404e-03\n",
              "education_basic.6y               4.051455e-03\n",
              "job_entrepreneur                 4.180549e-03\n",
              "job_unemployed                   4.183784e-03\n",
              "month_sep                        4.412431e-03\n",
              "job_student                      4.462731e-03\n",
              "job_self-employed                4.579350e-03\n",
              "month_jun                        5.391294e-03\n",
              "month_apr                        5.813938e-03\n",
              "education_basic.4y               5.962566e-03\n",
              "job_retired                      6.341739e-03\n",
              "job_services                     6.623972e-03\n",
              "contact_cellular                 6.936392e-03\n",
              "contact_telephone                7.553149e-03\n",
              "job_management                   7.594476e-03\n",
              "month_mar                        7.735370e-03\n",
              "education_basic.9y               8.149880e-03\n",
              "marital_divorced                 8.209469e-03\n",
              "job_blue-collar                  8.481277e-03\n",
              "month_may                        8.606012e-03\n",
              "poutcome_failure                 8.619837e-03\n",
              "month_oct                        8.682796e-03\n",
              "education_professional.course    9.637647e-03\n",
              "loan_yes                         9.748893e-03\n",
              "loan_no                          9.781832e-03\n",
              "poutcome_nonexistent             1.061343e-02\n",
              "job_technician                   1.065439e-02\n",
              "marital_single                   1.216298e-02\n",
              "education_high.school            1.224617e-02\n",
              "day_of_week_fri                  1.233817e-02\n",
              "day_of_week_wed                  1.278056e-02\n",
              "marital_married                  1.287773e-02\n",
              "day_of_week_mon                  1.336107e-02\n",
              "day_of_week_tue                  1.341608e-02\n",
              "education_university.degree      1.359418e-02\n",
              "job_admin.                       1.378725e-02\n",
              "day_of_week_thu                  1.379272e-02\n",
              "housing_no                       1.416322e-02\n",
              "housing_yes                      1.475961e-02\n",
              "previous                         1.578161e-02\n",
              "poutcome_success                 2.996930e-02\n",
              "pdays                            4.195975e-02\n",
              "campaign                         4.333988e-02\n",
              "emp.var.rate                     4.371506e-02\n",
              "cons.price.idx                   4.414934e-02\n",
              "cons.conf.idx                    4.895431e-02\n",
              "age                              9.235801e-02\n",
              "duration                         2.771815e-01\n",
              "dtype: float64"
            ]
          },
          "metadata": {
            "tags": []
          },
          "execution_count": 321
        }
      ]
    },
    {
      "metadata": {
        "id": "L12_otXM36PO",
        "colab_type": "code",
        "colab": {
          "base_uri": "https://localhost:8080/",
          "height": 139
        },
        "outputId": "7c9dd430-4696-4bbe-cc44-ab9da04ef898"
      },
      "cell_type": "code",
      "source": [
        "from sklearn.preprocessing import StandardScaler\n",
        "\n",
        "sc = StandardScaler()  \n",
        "X_train1 = sc.fit_transform(X_train)  \n",
        "X_test1 = sc.transform(X_test)  "
      ],
      "execution_count": 322,
      "outputs": [
        {
          "output_type": "stream",
          "text": [
            "/usr/local/lib/python3.6/dist-packages/sklearn/preprocessing/data.py:645: DataConversionWarning: Data with input dtype uint8, int64, float64 were all converted to float64 by StandardScaler.\n",
            "  return self.partial_fit(X, y)\n",
            "/usr/local/lib/python3.6/dist-packages/sklearn/base.py:464: DataConversionWarning: Data with input dtype uint8, int64, float64 were all converted to float64 by StandardScaler.\n",
            "  return self.fit(X, **fit_params).transform(X)\n",
            "/usr/local/lib/python3.6/dist-packages/ipykernel_launcher.py:5: DataConversionWarning: Data with input dtype uint8, int64, float64 were all converted to float64 by StandardScaler.\n",
            "  \"\"\"\n"
          ],
          "name": "stderr"
        }
      ]
    },
    {
      "metadata": {
        "id": "G2gjowkT5gF3",
        "colab_type": "code",
        "colab": {
          "base_uri": "https://localhost:8080/",
          "height": 51
        },
        "outputId": "4f9a6855-fa8e-48a0-8ebf-ed05cbf809d5"
      },
      "cell_type": "code",
      "source": [
        "from sklearn.discriminant_analysis import LinearDiscriminantAnalysis as LDA\n",
        "\n",
        "lda = LDA(n_components=2)  \n",
        "y_train1=y_train\n",
        "y_test1=y_test\n",
        "X_train1 = lda.fit_transform(X_train1, y_train1)  \n",
        "X_test1 = lda.transform(X_test1)  \n"
      ],
      "execution_count": 323,
      "outputs": [
        {
          "output_type": "stream",
          "text": [
            "/usr/local/lib/python3.6/dist-packages/sklearn/discriminant_analysis.py:388: UserWarning: Variables are collinear.\n",
            "  warnings.warn(\"Variables are collinear.\")\n"
          ],
          "name": "stderr"
        }
      ]
    },
    {
      "metadata": {
        "id": "lKqBh6XMXOYA",
        "colab_type": "code",
        "colab": {}
      },
      "cell_type": "code",
      "source": [
        ""
      ],
      "execution_count": 0,
      "outputs": []
    },
    {
      "metadata": {
        "id": "q7-eEQQH5hTT",
        "colab_type": "code",
        "colab": {
          "base_uri": "https://localhost:8080/",
          "height": 68
        },
        "outputId": "2b1c4dde-b695-40ae-e9a0-de51120ecb19"
      },
      "cell_type": "code",
      "source": [
        "from sklearn.metrics import confusion_matrix  \n",
        "from sklearn.metrics import accuracy_score\n",
        "from sklearn.ensemble import RandomForestClassifier\n",
        "np.random.seed(seed=10)\n",
        "\n",
        "classifier = RandomForestClassifier(max_depth=2,n_jobs=-1, n_estimators=300,class_weight={0:7,1:9})\n",
        "classifier.fit(X_train1, y_train1)  \n",
        "y_pred1 = classifier.predict(X_test1) \n",
        "cm = confusion_matrix(y_test1, y_pred1) \n",
        "print(cm)  \n",
        "print('Accuracy' + str(accuracy_score(y_test1, y_pred1)))  "
      ],
      "execution_count": 324,
      "outputs": [
        {
          "output_type": "stream",
          "text": [
            "[[7598  376]\n",
            " [ 535  638]]\n",
            "Accuracy0.9004045042090303\n"
          ],
          "name": "stdout"
        }
      ]
    },
    {
      "metadata": {
        "id": "qWf4iILK5dgm",
        "colab_type": "code",
        "colab": {
          "base_uri": "https://localhost:8080/",
          "height": 34
        },
        "outputId": "5f901a47-7f7e-490d-8d58-1245412198de"
      },
      "cell_type": "code",
      "source": [
        "from sklearn.metrics import roc_curve, auc\n",
        "false_positive_rate, true_positive_rate, thresholds = roc_curve(y_test1, y_pred1)\n",
        "roc_auc = auc(false_positive_rate, true_positive_rate)\n",
        "roc_auc\n"
      ],
      "execution_count": 325,
      "outputs": [
        {
          "output_type": "execute_result",
          "data": {
            "text/plain": [
              "0.7483756351364441"
            ]
          },
          "metadata": {
            "tags": []
          },
          "execution_count": 325
        }
      ]
    },
    {
      "metadata": {
        "id": "UxqYGYgBZo00",
        "colab_type": "code",
        "colab": {
          "base_uri": "https://localhost:8080/",
          "height": 289
        },
        "outputId": "9ecc434e-b6db-422b-b6c5-0cd5dc2611f9"
      },
      "cell_type": "code",
      "source": [
        "from treeinterpreter import treeinterpreter as ti\n",
        "\n",
        "prediction, bias, contributions = ti.predict(classifier,X_test1)\n",
        "print (\"Prediction\", prediction)\n",
        "print (\"Bias (trainset prior)\", bias)\n",
        "print (\"Feature contributions:\")\n",
        "for c, feature in zip(contributions[0], list1):\n",
        "    print(feature, c)\n"
      ],
      "execution_count": 344,
      "outputs": [
        {
          "output_type": "stream",
          "text": [
            "Prediction [[0.98788851 0.01211149]\n",
            " [0.83461764 0.16538236]\n",
            " [0.57921243 0.42078757]\n",
            " ...\n",
            " [0.98788851 0.01211149]\n",
            " [0.98788851 0.01211149]\n",
            " [0.7742594  0.2257406 ]]\n",
            "Bias (trainset prior) [[0.84385575 0.15614425]\n",
            " [0.84385575 0.15614425]\n",
            " [0.84385575 0.15614425]\n",
            " ...\n",
            " [0.84385575 0.15614425]\n",
            " [0.84385575 0.15614425]\n",
            " [0.84385575 0.15614425]]\n",
            "Feature contributions:\n",
            "age [ 0.14403276 -0.14403276]\n"
          ],
          "name": "stdout"
        }
      ]
    },
    {
      "metadata": {
        "id": "3WgNoY0JXzLY",
        "colab_type": "code",
        "colab": {}
      },
      "cell_type": "code",
      "source": [
        ""
      ],
      "execution_count": 0,
      "outputs": []
    },
    {
      "metadata": {
        "id": "mgiPHAVf6GwY",
        "colab_type": "code",
        "colab": {}
      },
      "cell_type": "code",
      "source": [
        ""
      ],
      "execution_count": 0,
      "outputs": []
    },
    {
      "metadata": {
        "id": "_MJtzRVV6G_g",
        "colab_type": "code",
        "colab": {}
      },
      "cell_type": "code",
      "source": [
        ""
      ],
      "execution_count": 0,
      "outputs": []
    },
    {
      "metadata": {
        "colab_type": "code",
        "id": "njuvm-Ap5G8R",
        "colab": {}
      },
      "cell_type": "code",
      "source": [
        ""
      ],
      "execution_count": 0,
      "outputs": []
    },
    {
      "metadata": {
        "id": "ABKsJKOWZLtu",
        "colab_type": "code",
        "colab": {}
      },
      "cell_type": "code",
      "source": [
        ""
      ],
      "execution_count": 0,
      "outputs": []
    },
    {
      "metadata": {
        "id": "VaKUMFWrgeil",
        "colab_type": "code",
        "colab": {}
      },
      "cell_type": "code",
      "source": [
        ""
      ],
      "execution_count": 0,
      "outputs": []
    },
    {
      "metadata": {
        "id": "7ivhaetaUUl5",
        "colab_type": "code",
        "colab": {}
      },
      "cell_type": "code",
      "source": [
        ""
      ],
      "execution_count": 0,
      "outputs": []
    },
    {
      "metadata": {
        "id": "bml42bJHa3Wh",
        "colab_type": "code",
        "colab": {}
      },
      "cell_type": "code",
      "source": [
        ""
      ],
      "execution_count": 0,
      "outputs": []
    },
    {
      "metadata": {
        "id": "mbzX0OLZhJZ5",
        "colab_type": "code",
        "colab": {}
      },
      "cell_type": "code",
      "source": [
        ""
      ],
      "execution_count": 0,
      "outputs": []
    },
    {
      "metadata": {
        "id": "raWmxCE74QaL",
        "colab_type": "code",
        "colab": {}
      },
      "cell_type": "code",
      "source": [
        ""
      ],
      "execution_count": 0,
      "outputs": []
    },
    {
      "metadata": {
        "id": "AGBWUThDupjr",
        "colab_type": "code",
        "colab": {}
      },
      "cell_type": "code",
      "source": [
        ""
      ],
      "execution_count": 0,
      "outputs": []
    },
    {
      "metadata": {
        "id": "-NKa99DnsF-x",
        "colab_type": "code",
        "colab": {}
      },
      "cell_type": "code",
      "source": [
        ""
      ],
      "execution_count": 0,
      "outputs": []
    },
    {
      "metadata": {
        "id": "Tm-SyHaWwIHl",
        "colab_type": "code",
        "colab": {}
      },
      "cell_type": "code",
      "source": [
        ""
      ],
      "execution_count": 0,
      "outputs": []
    },
    {
      "metadata": {
        "id": "ulcIbLxhwgJz",
        "colab_type": "code",
        "colab": {}
      },
      "cell_type": "code",
      "source": [
        ""
      ],
      "execution_count": 0,
      "outputs": []
    },
    {
      "metadata": {
        "id": "OMOL2Cppwp1_",
        "colab_type": "code",
        "colab": {}
      },
      "cell_type": "code",
      "source": [
        ""
      ],
      "execution_count": 0,
      "outputs": []
    },
    {
      "metadata": {
        "id": "AvnAFmd_xRJt",
        "colab_type": "code",
        "colab": {}
      },
      "cell_type": "code",
      "source": [
        ""
      ],
      "execution_count": 0,
      "outputs": []
    },
    {
      "metadata": {
        "id": "7FGsVEEK4DRk",
        "colab_type": "code",
        "colab": {}
      },
      "cell_type": "code",
      "source": [
        ""
      ],
      "execution_count": 0,
      "outputs": []
    }
  ]
}