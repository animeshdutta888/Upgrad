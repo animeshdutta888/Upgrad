{
  "nbformat": 4,
  "nbformat_minor": 0,
  "metadata": {
    "colab": {
      "name": "Upgrad.ipynb",
      "version": "0.3.2",
      "provenance": [],
      "include_colab_link": true
    },
    "kernelspec": {
      "display_name": "Python 3",
      "language": "python",
      "name": "python3"
    }
  },
  "cells": [
    {
      "cell_type": "markdown",
      "metadata": {
        "id": "view-in-github",
        "colab_type": "text"
      },
      "source": [
        "<a href=\"https://colab.research.google.com/github/animeshdutta888/Upgrad/blob/master/Upgrad.ipynb\" target=\"_parent\"><img src=\"https://colab.research.google.com/assets/colab-badge.svg\" alt=\"Open In Colab\"/></a>"
      ]
    },
    {
      "metadata": {
        "id": "50SaehwqTJqa",
        "colab_type": "code",
        "colab": {}
      },
      "cell_type": "code",
      "source": [
        "# !wget --header=\"Host: doc-0g-bk-docs.googleusercontent.com\" --header=\"User-Agent: Mozilla/5.0 (X11; Linux x86_64) AppleWebKit/537.36 (KHTML, like Gecko) Chrome/73.0.3683.75 Safari/537.36\" --header=\"Accept: text/html,application/xhtml+xml,application/xml;q=0.9,image/webp,image/apng,*/*;q=0.8\" --header=\"Accept-Language: en-US,en-IN;q=0.9,en;q=0.8\" --header=\"Referer: https://drive.google.com/uc?id=1wpOtr264MFYrN1QVkpHug_jJ2Z8Eik85&export=download\" --header=\"Cookie: AUTH_4bopc2hc8l34lnvure9p0f69o32upi3p_nonce=c6uhnue2s1nko; NID=162=dN9p5hojnjtNxQlJ9H2wVK1aumNobi8Aj0XWAhkg1hB7Er3vQZtHYlT86HCBYZfQHWz2bZi0FMmtHi_CP1aRF1PDB5BUzZSv-do9OFo2fvh04TdWdU78G3sj7dgsk3507V0Z6CJI9WxFGbvff9Db8ZV_NzjATAcjWKXMnQSlCUE\" --header=\"Connection: keep-alive\" \"https://doc-0g-bk-docs.googleusercontent.com/docs/securesc/psusq0mr93vn4rl25l4i1rlqvv3toc55/dbkm7hhtpisdqqpcd6m4f63c823h601k/1553911200000/02500186615322573913/17243280734409231109/1wpOtr264MFYrN1QVkpHug_jJ2Z8Eik85?e=download&nonce=c6uhnue2s1nko&user=17243280734409231109&hash=bh3d9i0jjqu8hrhfch84konrpitqaj26\" -O \"train.zip\" -c"
      ],
      "execution_count": 0,
      "outputs": []
    },
    {
      "metadata": {
        "id": "axbUBdqZTajz",
        "colab_type": "code",
        "outputId": "f3a5b024-469d-41ed-ad45-b1d65ff0bf92",
        "colab": {
          "base_uri": "https://localhost:8080/",
          "height": 34
        }
      },
      "cell_type": "code",
      "source": [
        "import numpy as np\n",
        "import pandas as pd\n",
        "from sklearn.ensemble import RandomForestClassifier\n",
        "from sklearn import datasets\n",
        "from sklearn.model_selection import train_test_split\n",
        "from sklearn.feature_selection import SelectFromModel\n",
        "from sklearn.metrics import accuracy_score\n",
        "from google.colab import drive\n",
        "drive.mount('/content/drive/')"
      ],
      "execution_count": 580,
      "outputs": [
        {
          "output_type": "stream",
          "text": [
            "Drive already mounted at /content/drive/; to attempt to forcibly remount, call drive.mount(\"/content/drive/\", force_remount=True).\n"
          ],
          "name": "stdout"
        }
      ]
    },
    {
      "metadata": {
        "id": "6jesg5DkTJqs",
        "colab_type": "code",
        "colab": {}
      },
      "cell_type": "code",
      "source": [
        "train_df = pd.read_csv('/content/drive/My Drive/upgrad/bank-additional-full.csv',sep=';')\n",
        "train_df = train_df.replace(\"unknown\", np.NaN)\n"
      ],
      "execution_count": 0,
      "outputs": []
    },
    {
      "metadata": {
        "id": "gOmTU0sspM2v",
        "colab_type": "code",
        "colab": {
          "base_uri": "https://localhost:8080/",
          "height": 34
        },
        "outputId": "957cb531-d10f-4ded-a26a-42b7f6bd6894"
      },
      "cell_type": "code",
      "source": [
        "# drop rows with missing values\n",
        "train_df.dropna(inplace=True)\n",
        "# summarize the number of rows and columns in the dataset\n",
        "print(train_df.shape)"
      ],
      "execution_count": 694,
      "outputs": [
        {
          "output_type": "stream",
          "text": [
            "(30488, 21)\n"
          ],
          "name": "stdout"
        }
      ]
    },
    {
      "metadata": {
        "id": "WpN7gDRETJqh",
        "colab_type": "code",
        "colab": {}
      },
      "cell_type": "code",
      "source": [
        ""
      ],
      "execution_count": 0,
      "outputs": []
    },
    {
      "metadata": {
        "id": "7L28DXlpTJqm",
        "colab_type": "code",
        "outputId": "6cac9dcd-33b2-4265-9481-3c22ddb223d0",
        "colab": {
          "base_uri": "https://localhost:8080/",
          "height": 359
        }
      },
      "cell_type": "code",
      "source": [
        "train_df.corr()  #find co-relation and drop highly co-related columns"
      ],
      "execution_count": 695,
      "outputs": [
        {
          "output_type": "execute_result",
          "data": {
            "text/html": [
              "<div>\n",
              "<style scoped>\n",
              "    .dataframe tbody tr th:only-of-type {\n",
              "        vertical-align: middle;\n",
              "    }\n",
              "\n",
              "    .dataframe tbody tr th {\n",
              "        vertical-align: top;\n",
              "    }\n",
              "\n",
              "    .dataframe thead th {\n",
              "        text-align: right;\n",
              "    }\n",
              "</style>\n",
              "<table border=\"1\" class=\"dataframe\">\n",
              "  <thead>\n",
              "    <tr style=\"text-align: right;\">\n",
              "      <th></th>\n",
              "      <th>age</th>\n",
              "      <th>duration</th>\n",
              "      <th>campaign</th>\n",
              "      <th>pdays</th>\n",
              "      <th>previous</th>\n",
              "      <th>emp.var.rate</th>\n",
              "      <th>cons.price.idx</th>\n",
              "      <th>cons.conf.idx</th>\n",
              "      <th>euribor3m</th>\n",
              "      <th>nr.employed</th>\n",
              "    </tr>\n",
              "  </thead>\n",
              "  <tbody>\n",
              "    <tr>\n",
              "      <th>age</th>\n",
              "      <td>1.000000</td>\n",
              "      <td>0.007910</td>\n",
              "      <td>-0.002364</td>\n",
              "      <td>-0.050891</td>\n",
              "      <td>0.049231</td>\n",
              "      <td>-0.050409</td>\n",
              "      <td>-0.035762</td>\n",
              "      <td>0.125017</td>\n",
              "      <td>-0.036481</td>\n",
              "      <td>-0.064586</td>\n",
              "    </tr>\n",
              "    <tr>\n",
              "      <th>duration</th>\n",
              "      <td>0.007910</td>\n",
              "      <td>1.000000</td>\n",
              "      <td>-0.068406</td>\n",
              "      <td>-0.046239</td>\n",
              "      <td>0.018772</td>\n",
              "      <td>-0.023374</td>\n",
              "      <td>0.012768</td>\n",
              "      <td>-0.009525</td>\n",
              "      <td>-0.028922</td>\n",
              "      <td>-0.040367</td>\n",
              "    </tr>\n",
              "    <tr>\n",
              "      <th>campaign</th>\n",
              "      <td>-0.002364</td>\n",
              "      <td>-0.068406</td>\n",
              "      <td>1.000000</td>\n",
              "      <td>0.054312</td>\n",
              "      <td>-0.080766</td>\n",
              "      <td>0.157739</td>\n",
              "      <td>0.127260</td>\n",
              "      <td>-0.011664</td>\n",
              "      <td>0.140836</td>\n",
              "      <td>0.148069</td>\n",
              "    </tr>\n",
              "    <tr>\n",
              "      <th>pdays</th>\n",
              "      <td>-0.050891</td>\n",
              "      <td>-0.046239</td>\n",
              "      <td>0.054312</td>\n",
              "      <td>1.000000</td>\n",
              "      <td>-0.590248</td>\n",
              "      <td>0.268763</td>\n",
              "      <td>0.068010</td>\n",
              "      <td>-0.102368</td>\n",
              "      <td>0.295188</td>\n",
              "      <td>0.370845</td>\n",
              "    </tr>\n",
              "    <tr>\n",
              "      <th>previous</th>\n",
              "      <td>0.049231</td>\n",
              "      <td>0.018772</td>\n",
              "      <td>-0.080766</td>\n",
              "      <td>-0.590248</td>\n",
              "      <td>1.000000</td>\n",
              "      <td>-0.403502</td>\n",
              "      <td>-0.176775</td>\n",
              "      <td>-0.027930</td>\n",
              "      <td>-0.438863</td>\n",
              "      <td>-0.488365</td>\n",
              "    </tr>\n",
              "    <tr>\n",
              "      <th>emp.var.rate</th>\n",
              "      <td>-0.050409</td>\n",
              "      <td>-0.023374</td>\n",
              "      <td>0.157739</td>\n",
              "      <td>0.268763</td>\n",
              "      <td>-0.403502</td>\n",
              "      <td>1.000000</td>\n",
              "      <td>0.766055</td>\n",
              "      <td>0.157593</td>\n",
              "      <td>0.969412</td>\n",
              "      <td>0.900390</td>\n",
              "    </tr>\n",
              "    <tr>\n",
              "      <th>cons.price.idx</th>\n",
              "      <td>-0.035762</td>\n",
              "      <td>0.012768</td>\n",
              "      <td>0.127260</td>\n",
              "      <td>0.068010</td>\n",
              "      <td>-0.176775</td>\n",
              "      <td>0.766055</td>\n",
              "      <td>1.000000</td>\n",
              "      <td>0.027217</td>\n",
              "      <td>0.667292</td>\n",
              "      <td>0.488871</td>\n",
              "    </tr>\n",
              "    <tr>\n",
              "      <th>cons.conf.idx</th>\n",
              "      <td>0.125017</td>\n",
              "      <td>-0.009525</td>\n",
              "      <td>-0.011664</td>\n",
              "      <td>-0.102368</td>\n",
              "      <td>-0.027930</td>\n",
              "      <td>0.157593</td>\n",
              "      <td>0.027217</td>\n",
              "      <td>1.000000</td>\n",
              "      <td>0.243637</td>\n",
              "      <td>0.075283</td>\n",
              "    </tr>\n",
              "    <tr>\n",
              "      <th>euribor3m</th>\n",
              "      <td>-0.036481</td>\n",
              "      <td>-0.028922</td>\n",
              "      <td>0.140836</td>\n",
              "      <td>0.295188</td>\n",
              "      <td>-0.438863</td>\n",
              "      <td>0.969412</td>\n",
              "      <td>0.667292</td>\n",
              "      <td>0.243637</td>\n",
              "      <td>1.000000</td>\n",
              "      <td>0.944871</td>\n",
              "    </tr>\n",
              "    <tr>\n",
              "      <th>nr.employed</th>\n",
              "      <td>-0.064586</td>\n",
              "      <td>-0.040367</td>\n",
              "      <td>0.148069</td>\n",
              "      <td>0.370845</td>\n",
              "      <td>-0.488365</td>\n",
              "      <td>0.900390</td>\n",
              "      <td>0.488871</td>\n",
              "      <td>0.075283</td>\n",
              "      <td>0.944871</td>\n",
              "      <td>1.000000</td>\n",
              "    </tr>\n",
              "  </tbody>\n",
              "</table>\n",
              "</div>"
            ],
            "text/plain": [
              "                     age  duration  campaign     pdays  previous  \\\n",
              "age             1.000000  0.007910 -0.002364 -0.050891  0.049231   \n",
              "duration        0.007910  1.000000 -0.068406 -0.046239  0.018772   \n",
              "campaign       -0.002364 -0.068406  1.000000  0.054312 -0.080766   \n",
              "pdays          -0.050891 -0.046239  0.054312  1.000000 -0.590248   \n",
              "previous        0.049231  0.018772 -0.080766 -0.590248  1.000000   \n",
              "emp.var.rate   -0.050409 -0.023374  0.157739  0.268763 -0.403502   \n",
              "cons.price.idx -0.035762  0.012768  0.127260  0.068010 -0.176775   \n",
              "cons.conf.idx   0.125017 -0.009525 -0.011664 -0.102368 -0.027930   \n",
              "euribor3m      -0.036481 -0.028922  0.140836  0.295188 -0.438863   \n",
              "nr.employed    -0.064586 -0.040367  0.148069  0.370845 -0.488365   \n",
              "\n",
              "                emp.var.rate  cons.price.idx  cons.conf.idx  euribor3m  \\\n",
              "age                -0.050409       -0.035762       0.125017  -0.036481   \n",
              "duration           -0.023374        0.012768      -0.009525  -0.028922   \n",
              "campaign            0.157739        0.127260      -0.011664   0.140836   \n",
              "pdays               0.268763        0.068010      -0.102368   0.295188   \n",
              "previous           -0.403502       -0.176775      -0.027930  -0.438863   \n",
              "emp.var.rate        1.000000        0.766055       0.157593   0.969412   \n",
              "cons.price.idx      0.766055        1.000000       0.027217   0.667292   \n",
              "cons.conf.idx       0.157593        0.027217       1.000000   0.243637   \n",
              "euribor3m           0.969412        0.667292       0.243637   1.000000   \n",
              "nr.employed         0.900390        0.488871       0.075283   0.944871   \n",
              "\n",
              "                nr.employed  \n",
              "age               -0.064586  \n",
              "duration          -0.040367  \n",
              "campaign           0.148069  \n",
              "pdays              0.370845  \n",
              "previous          -0.488365  \n",
              "emp.var.rate       0.900390  \n",
              "cons.price.idx     0.488871  \n",
              "cons.conf.idx      0.075283  \n",
              "euribor3m          0.944871  \n",
              "nr.employed        1.000000  "
            ]
          },
          "metadata": {
            "tags": []
          },
          "execution_count": 695
        }
      ]
    },
    {
      "metadata": {
        "id": "unR9FCmyTJqo",
        "colab_type": "code",
        "colab": {}
      },
      "cell_type": "code",
      "source": [
        "train_df.drop(['euribor3m','nr.employed','duration'],axis=1,inplace=True)"
      ],
      "execution_count": 0,
      "outputs": []
    },
    {
      "metadata": {
        "id": "QIn0i1FTTJqv",
        "colab_type": "code",
        "colab": {}
      },
      "cell_type": "code",
      "source": [
        "train_df.y=train_df.y.eq('yes').mul(1)\n"
      ],
      "execution_count": 0,
      "outputs": []
    },
    {
      "metadata": {
        "id": "rlJstORHz9tN",
        "colab_type": "code",
        "colab": {
          "base_uri": "https://localhost:8080/",
          "height": 85
        },
        "outputId": "cc5329e1-7b47-415a-8c4c-3d1e050abc13"
      },
      "cell_type": "code",
      "source": [
        "train_df.groupby(['y']).size()\n"
      ],
      "execution_count": 700,
      "outputs": [
        {
          "output_type": "execute_result",
          "data": {
            "text/plain": [
              "y\n",
              "0    26629\n",
              "1     3859\n",
              "dtype: int64"
            ]
          },
          "metadata": {
            "tags": []
          },
          "execution_count": 700
        }
      ]
    },
    {
      "metadata": {
        "id": "zWP7U2l9QvVP",
        "colab_type": "code",
        "colab": {}
      },
      "cell_type": "code",
      "source": [
        "\n"
      ],
      "execution_count": 0,
      "outputs": []
    },
    {
      "metadata": {
        "id": "Eo1xWOjTayFx",
        "colab_type": "code",
        "colab": {}
      },
      "cell_type": "code",
      "source": [
        "X = pd.get_dummies(train_df, prefix_sep='_', drop_first=False)       #One-hot-encoding\n",
        "\n",
        "\n"
      ],
      "execution_count": 0,
      "outputs": []
    },
    {
      "metadata": {
        "id": "HwcKcdNxWIw9",
        "colab_type": "code",
        "colab": {}
      },
      "cell_type": "code",
      "source": [
        "from sklearn.model_selection import train_test_split\n",
        "\n",
        "# We'll use this library to make the display pretty\n",
        "from tabulate import tabulate"
      ],
      "execution_count": 0,
      "outputs": []
    },
    {
      "metadata": {
        "id": "D309KplwYleC",
        "colab_type": "code",
        "colab": {}
      },
      "cell_type": "code",
      "source": [
        "y = X.y\n",
        "X = X.drop([\"y\"], axis=1)\n",
        "list1=X.columns.values.tolist()\n",
        "np.random.seed(seed=10)\n",
        "\n",
        "X_train, X_test, y_train, y_test = train_test_split(X, y, random_state=42, test_size=.30)\n"
      ],
      "execution_count": 0,
      "outputs": []
    },
    {
      "metadata": {
        "id": "r026ohgj3jYq",
        "colab_type": "code",
        "colab": {
          "base_uri": "https://localhost:8080/",
          "height": 1156
        },
        "outputId": "f7d2a870-77ad-48a5-8270-d059c975cebc"
      },
      "cell_type": "code",
      "source": [
        "from sklearn.ensemble import RandomForestClassifier\n",
        "\n",
        "#Create a Gaussian Classifier\n",
        "clf=RandomForestClassifier(n_estimators=300)\n",
        "\n",
        "#Train the model using the training sets y_pred=clf.predict(X_test)\n",
        "clf.fit(X_train,y_train)\n",
        "RandomForestClassifier(bootstrap=True, class_weight=None, criterion='gini',\n",
        "            max_depth=None, max_features='auto', max_leaf_nodes=None,\n",
        "            min_impurity_decrease=0.0, min_impurity_split=None,\n",
        "            min_samples_leaf=1, min_samples_split=2,\n",
        "            min_weight_fraction_leaf=0.0, n_estimators=500, n_jobs=2,\n",
        "            oob_score=False, random_state=None, verbose=0,\n",
        "            warm_start=False)\n",
        "import pandas as pd\n",
        "feature_imp = pd.Series(clf.feature_importances_,index=list1).sort_values(ascending=True)\n",
        "feature_imp"
      ],
      "execution_count": 704,
      "outputs": [
        {
          "output_type": "execute_result",
          "data": {
            "text/plain": [
              "RandomForestClassifier(bootstrap=True, class_weight=None, criterion='gini',\n",
              "            max_depth=None, max_features='auto', max_leaf_nodes=None,\n",
              "            min_impurity_decrease=0.0, min_impurity_split=None,\n",
              "            min_samples_leaf=1, min_samples_split=2,\n",
              "            min_weight_fraction_leaf=0.0, n_estimators=300, n_jobs=None,\n",
              "            oob_score=False, random_state=None, verbose=0,\n",
              "            warm_start=False)"
            ]
          },
          "metadata": {
            "tags": []
          },
          "execution_count": 704
        },
        {
          "output_type": "execute_result",
          "data": {
            "text/plain": [
              "RandomForestClassifier(bootstrap=True, class_weight=None, criterion='gini',\n",
              "            max_depth=None, max_features='auto', max_leaf_nodes=None,\n",
              "            min_impurity_decrease=0.0, min_impurity_split=None,\n",
              "            min_samples_leaf=1, min_samples_split=2,\n",
              "            min_weight_fraction_leaf=0.0, n_estimators=500, n_jobs=2,\n",
              "            oob_score=False, random_state=None, verbose=0,\n",
              "            warm_start=False)"
            ]
          },
          "metadata": {
            "tags": []
          },
          "execution_count": 704
        },
        {
          "output_type": "execute_result",
          "data": {
            "text/plain": [
              "default_yes                      1.910838e-07\n",
              "default_no                       1.929301e-07\n",
              "education_illiterate             3.107806e-04\n",
              "month_dec                        1.404320e-03\n",
              "month_nov                        3.829189e-03\n",
              "month_aug                        4.153514e-03\n",
              "month_sep                        4.156924e-03\n",
              "job_housemaid                    4.175050e-03\n",
              "month_jul                        4.315035e-03\n",
              "month_apr                        5.042775e-03\n",
              "month_jun                        5.410504e-03\n",
              "job_unemployed                   5.643625e-03\n",
              "job_entrepreneur                 5.707635e-03\n",
              "job_student                      5.939994e-03\n",
              "education_basic.6y               6.614836e-03\n",
              "job_self-employed                7.028243e-03\n",
              "month_mar                        7.276293e-03\n",
              "job_retired                      7.615017e-03\n",
              "education_basic.4y               7.649580e-03\n",
              "contact_telephone                8.429202e-03\n",
              "contact_cellular                 8.993341e-03\n",
              "job_services                     9.236213e-03\n",
              "poutcome_nonexistent             9.467879e-03\n",
              "month_oct                        9.469736e-03\n",
              "month_may                        9.869542e-03\n",
              "job_management                   1.049881e-02\n",
              "poutcome_failure                 1.075686e-02\n",
              "job_blue-collar                  1.109566e-02\n",
              "education_basic.9y               1.177494e-02\n",
              "marital_divorced                 1.194555e-02\n",
              "education_professional.course    1.310860e-02\n",
              "loan_no                          1.397469e-02\n",
              "loan_yes                         1.430128e-02\n",
              "job_technician                   1.509558e-02\n",
              "marital_single                   1.668708e-02\n",
              "previous                         1.781269e-02\n",
              "education_university.degree      1.804435e-02\n",
              "education_high.school            1.815645e-02\n",
              "day_of_week_fri                  1.834710e-02\n",
              "marital_married                  1.892977e-02\n",
              "day_of_week_tue                  1.898311e-02\n",
              "day_of_week_wed                  1.899074e-02\n",
              "day_of_week_mon                  1.909373e-02\n",
              "job_admin.                       1.942014e-02\n",
              "day_of_week_thu                  1.969026e-02\n",
              "housing_no                       2.128978e-02\n",
              "housing_yes                      2.142688e-02\n",
              "poutcome_success                 3.059897e-02\n",
              "cons.price.idx                   4.165650e-02\n",
              "emp.var.rate                     4.561210e-02\n",
              "pdays                            4.904117e-02\n",
              "cons.conf.idx                    5.126730e-02\n",
              "campaign                         8.928804e-02\n",
              "age                              1.913723e-01\n",
              "dtype: float64"
            ]
          },
          "metadata": {
            "tags": []
          },
          "execution_count": 704
        }
      ]
    },
    {
      "metadata": {
        "id": "L12_otXM36PO",
        "colab_type": "code",
        "colab": {
          "base_uri": "https://localhost:8080/",
          "height": 139
        },
        "outputId": "dbd2d796-92bb-44a5-dadd-f75c38525fad"
      },
      "cell_type": "code",
      "source": [
        "from sklearn.preprocessing import StandardScaler\n",
        "np.random.seed(seed=10)\n",
        "\n",
        "sc = StandardScaler()  \n",
        "X_train1 = sc.fit_transform(X_train)  \n",
        "X_test1 = sc.transform(X_test)  "
      ],
      "execution_count": 705,
      "outputs": [
        {
          "output_type": "stream",
          "text": [
            "/usr/local/lib/python3.6/dist-packages/sklearn/preprocessing/data.py:645: DataConversionWarning: Data with input dtype uint8, int64, float64 were all converted to float64 by StandardScaler.\n",
            "  return self.partial_fit(X, y)\n",
            "/usr/local/lib/python3.6/dist-packages/sklearn/base.py:464: DataConversionWarning: Data with input dtype uint8, int64, float64 were all converted to float64 by StandardScaler.\n",
            "  return self.fit(X, **fit_params).transform(X)\n",
            "/usr/local/lib/python3.6/dist-packages/ipykernel_launcher.py:6: DataConversionWarning: Data with input dtype uint8, int64, float64 were all converted to float64 by StandardScaler.\n",
            "  \n"
          ],
          "name": "stderr"
        }
      ]
    },
    {
      "metadata": {
        "id": "h6bKQ2C8XpbJ",
        "colab_type": "text"
      },
      "cell_type": "markdown",
      "source": [
        ""
      ]
    },
    {
      "metadata": {
        "id": "G2gjowkT5gF3",
        "colab_type": "code",
        "colab": {
          "base_uri": "https://localhost:8080/",
          "height": 51
        },
        "outputId": "c5ba75cc-8f80-4729-9a62-221877541771"
      },
      "cell_type": "code",
      "source": [
        "from sklearn.discriminant_analysis import LinearDiscriminantAnalysis as LDA\n",
        "\n",
        "lda = LDA(n_components=1)  \n",
        "y_train1=y_train\n",
        "y_test1=y_test\n",
        "X_train1 = lda.fit_transform(X_train1, y_train1)  \n",
        "X_test1 = lda.transform(X_test1)  \n"
      ],
      "execution_count": 706,
      "outputs": [
        {
          "output_type": "stream",
          "text": [
            "/usr/local/lib/python3.6/dist-packages/sklearn/discriminant_analysis.py:388: UserWarning: Variables are collinear.\n",
            "  warnings.warn(\"Variables are collinear.\")\n"
          ],
          "name": "stderr"
        }
      ]
    },
    {
      "metadata": {
        "id": "q7-eEQQH5hTT",
        "colab_type": "code",
        "colab": {
          "base_uri": "https://localhost:8080/",
          "height": 136
        },
        "outputId": "4b4db6e4-006a-4b3f-d6d6-33a2fa78cce1"
      },
      "cell_type": "code",
      "source": [
        "from sklearn.metrics import confusion_matrix  \n",
        "from sklearn.metrics import accuracy_score\n",
        "from sklearn.ensemble import RandomForestClassifier\n",
        "np.random.seed(seed=10)\n",
        "\n",
        "classifier = RandomForestClassifier(max_depth=2,n_jobs=-1, n_estimators=100,class_weight={0:16,1:20})\n",
        "classifier.fit(X_train1, y_train1)  \n",
        "y_pred1 = classifier.predict(X_test1)\n"
      ],
      "execution_count": 774,
      "outputs": [
        {
          "output_type": "execute_result",
          "data": {
            "text/plain": [
              "RandomForestClassifier(bootstrap=True, class_weight={0: 16, 1: 20},\n",
              "            criterion='gini', max_depth=2, max_features='auto',\n",
              "            max_leaf_nodes=None, min_impurity_decrease=0.0,\n",
              "            min_impurity_split=None, min_samples_leaf=1,\n",
              "            min_samples_split=2, min_weight_fraction_leaf=0.0,\n",
              "            n_estimators=100, n_jobs=-1, oob_score=False,\n",
              "            random_state=None, verbose=0, warm_start=False)"
            ]
          },
          "metadata": {
            "tags": []
          },
          "execution_count": 774
        }
      ]
    },
    {
      "metadata": {
        "id": "mpAYxyKhFAaa",
        "colab_type": "code",
        "colab": {
          "base_uri": "https://localhost:8080/",
          "height": 68
        },
        "outputId": "6c57a311-ea35-46b2-d872-acbabe19a67d"
      },
      "cell_type": "code",
      "source": [
        "cm = confusion_matrix(y_test1, y_pred1) \n",
        "print(cm)  \n",
        "print('Accuracy:' + str(accuracy_score(y_test1, y_pred1)))  "
      ],
      "execution_count": 775,
      "outputs": [
        {
          "output_type": "stream",
          "text": [
            "[[7881   93]\n",
            " [ 952  221]]\n",
            "Accuracy:0.8857548923144201\n"
          ],
          "name": "stdout"
        }
      ]
    },
    {
      "metadata": {
        "id": "9nT-2FJoQwm8",
        "colab_type": "code",
        "colab": {}
      },
      "cell_type": "code",
      "source": [
        ""
      ],
      "execution_count": 0,
      "outputs": []
    },
    {
      "metadata": {
        "id": "V8h28QjNWKvU",
        "colab_type": "code",
        "colab": {}
      },
      "cell_type": "code",
      "source": [
        ""
      ],
      "execution_count": 0,
      "outputs": []
    },
    {
      "metadata": {
        "id": "lKqBh6XMXOYA",
        "colab_type": "code",
        "colab": {}
      },
      "cell_type": "code",
      "source": [
        ""
      ],
      "execution_count": 0,
      "outputs": []
    },
    {
      "metadata": {
        "id": "qWf4iILK5dgm",
        "colab_type": "code",
        "colab": {
          "base_uri": "https://localhost:8080/",
          "height": 34
        },
        "outputId": "be477bf6-93d6-4dc6-eb7c-2e8ec9e5e2bc"
      },
      "cell_type": "code",
      "source": [
        "from sklearn.metrics import roc_curve, auc\n",
        "false_positive_rate, true_positive_rate, thresholds = roc_curve(y_test1, y_pred1)\n",
        "roc_auc = auc(false_positive_rate, true_positive_rate)\n",
        "roc_auc\n"
      ],
      "execution_count": 776,
      "outputs": [
        {
          "output_type": "execute_result",
          "data": {
            "text/plain": [
              "0.5883714463310105"
            ]
          },
          "metadata": {
            "tags": []
          },
          "execution_count": 776
        }
      ]
    },
    {
      "metadata": {
        "id": "UxqYGYgBZo00",
        "colab_type": "code",
        "colab": {
          "base_uri": "https://localhost:8080/",
          "height": 289
        },
        "outputId": "f4c768d6-3d55-4058-8d3f-f6ce3613b867"
      },
      "cell_type": "code",
      "source": [
        "from treeinterpreter import treeinterpreter as ti\n",
        "prediction, bias, contributions = ti.predict(classifier,X_test1)\n",
        "print (\"Prediction\", prediction)\n",
        "print (\"Bias (trainset prior)\", bias)\n",
        "print (\"Feature contributions:\")\n",
        "for c, feature in zip(contributions[0], list1):\n",
        "    print(feature, c)\n"
      ],
      "execution_count": 777,
      "outputs": [
        {
          "output_type": "stream",
          "text": [
            "Prediction [[0.94125463 0.05874537]\n",
            " [0.94125463 0.05874537]\n",
            " [0.94125463 0.05874537]\n",
            " ...\n",
            " [0.86093708 0.13906292]\n",
            " [0.86093708 0.13906292]\n",
            " [0.5813183  0.4186817 ]]\n",
            "Bias (trainset prior) [[0.8473896 0.1526104]\n",
            " [0.8473896 0.1526104]\n",
            " [0.8473896 0.1526104]\n",
            " ...\n",
            " [0.8473896 0.1526104]\n",
            " [0.8473896 0.1526104]\n",
            " [0.8473896 0.1526104]]\n",
            "Feature contributions:\n",
            "age [ 0.09386503 -0.09386503]\n"
          ],
          "name": "stdout"
        }
      ]
    },
    {
      "metadata": {
        "id": "3WgNoY0JXzLY",
        "colab_type": "code",
        "outputId": "ded01255-153a-44b7-a717-300c2ed83b3a",
        "colab": {
          "base_uri": "https://localhost:8080/",
          "height": 51
        }
      },
      "cell_type": "code",
      "source": [
        "cm"
      ],
      "execution_count": 778,
      "outputs": [
        {
          "output_type": "execute_result",
          "data": {
            "text/plain": [
              "array([[7881,   93],\n",
              "       [ 952,  221]])"
            ]
          },
          "metadata": {
            "tags": []
          },
          "execution_count": 778
        }
      ]
    },
    {
      "metadata": {
        "id": "EDDBlkScTnX4",
        "colab_type": "code",
        "colab": {
          "base_uri": "https://localhost:8080/",
          "height": 34
        },
        "outputId": "8eae72a8-540a-4dbe-cec2-70ac12d73c77"
      },
      "cell_type": "code",
      "source": [
        "#Recall\n",
        "print(round(7881 /(7881 + 93),2))\n"
      ],
      "execution_count": 779,
      "outputs": [
        {
          "output_type": "stream",
          "text": [
            "0.99\n"
          ],
          "name": "stdout"
        }
      ]
    },
    {
      "metadata": {
        "id": "uYfBiPxTUDoO",
        "colab_type": "text"
      },
      "cell_type": "markdown",
      "source": [
        "Recall - Specificity\n",
        "TN / (TN + FP) [ MATRIX LINE 1 ]\n",
        "\n",
        "For all NEGATIVE(0) REAL VALUES how much we predict correct ?\n",
        "\n",
        "other way to understand, our real test set has 7881+93 clients that didin't subscribe(0), and our model predict 99% correct or 7881 correct and 93 incorrect"
      ]
    },
    {
      "metadata": {
        "id": "c9n1sRewUCq_",
        "colab_type": "code",
        "colab": {
          "base_uri": "https://localhost:8080/",
          "height": 34
        },
        "outputId": "194bec9b-e90c-49ad-ea66-fa206912c950"
      },
      "cell_type": "code",
      "source": [
        "#Recall\n",
        "print(round(221 / (221 + 952  ),2))\n",
        "\n"
      ],
      "execution_count": 780,
      "outputs": [
        {
          "output_type": "stream",
          "text": [
            "0.19\n"
          ],
          "name": "stdout"
        }
      ]
    },
    {
      "metadata": {
        "id": "yF0Zw8wlUC5s",
        "colab_type": "text"
      },
      "cell_type": "markdown",
      "source": [
        "Recall - Sensitivity\n",
        "TP / (TP + FN) [ MATRIX LINE 2 ]\n",
        "\n",
        "For all POSITIVE(1) REAL VALUES how much we predict correct ?\n",
        "\n",
        "other way to understand, our real test set has 221+952 clients that subscribe(1), and our model predict 19% correct or 221 correct and 952 incorrect, BUT REMEMBER, its best we miss by False negative instead of False Positive"
      ]
    },
    {
      "metadata": {
        "id": "mgiPHAVf6GwY",
        "colab_type": "code",
        "colab": {
          "base_uri": "https://localhost:8080/",
          "height": 34
        },
        "outputId": "8116813c-70cc-4cd4-b98c-959e760c0f8e"
      },
      "cell_type": "code",
      "source": [
        "#Precision\n",
        "print(round(7881 / (7881 + 952),2))\n",
        "\n"
      ],
      "execution_count": 781,
      "outputs": [
        {
          "output_type": "stream",
          "text": [
            "0.89\n"
          ],
          "name": "stdout"
        }
      ]
    },
    {
      "metadata": {
        "id": "kIoxVW7qS07p",
        "colab_type": "text"
      },
      "cell_type": "markdown",
      "source": [
        "Precision\n",
        "TN / (TN + FN) [ MATRIX COLUMN 1 ]\n",
        "\n",
        "For all NEGATIVE(0) PREDICTIONS by our model, how much we predict correct ?\n",
        "\n",
        "other way to understand, our model pointed 7881 + 952  clients that didin't subscribe(0), and our model predict 89% correct or 7881 correct and 952 incorrect"
      ]
    },
    {
      "metadata": {
        "id": "_MJtzRVV6G_g",
        "colab_type": "code",
        "colab": {
          "base_uri": "https://localhost:8080/",
          "height": 34
        },
        "outputId": "0dc87862-389c-47f7-f0c2-6beff4ced014"
      },
      "cell_type": "code",
      "source": [
        "#Precision\n",
        "print(round(221 / (221 + 93),2))\n"
      ],
      "execution_count": 782,
      "outputs": [
        {
          "output_type": "stream",
          "text": [
            "0.7\n"
          ],
          "name": "stdout"
        }
      ]
    },
    {
      "metadata": {
        "id": "lF0F-BRJWoxt",
        "colab_type": "text"
      },
      "cell_type": "markdown",
      "source": [
        "TN / (TN + FN) [ MATRIX COLUMN 1 ]\n",
        "\n",
        "For all POSITIVE(1) PREDICTIONS by our model, how much we predict correct ?\n",
        "\n",
        "other way to understand, our model pointed 221+93 clients that subscribe(1), and our model predict 70% correct or 221 correct and 93 incorrect"
      ]
    },
    {
      "metadata": {
        "colab_type": "code",
        "outputId": "fb1f0953-1b5b-4130-a066-a91e0d9ae51a",
        "id": "njuvm-Ap5G8R",
        "colab": {
          "base_uri": "https://localhost:8080/",
          "height": 34
        }
      },
      "cell_type": "code",
      "source": [
        "F1_0 = 2*0.89*0.99/(0.89+0.99)\n",
        "round(F1_0,2)"
      ],
      "execution_count": 783,
      "outputs": [
        {
          "output_type": "execute_result",
          "data": {
            "text/plain": [
              "0.94"
            ]
          },
          "metadata": {
            "tags": []
          },
          "execution_count": 783
        }
      ]
    },
    {
      "metadata": {
        "id": "E-dOe8j3TSxC",
        "colab_type": "text"
      },
      "cell_type": "markdown",
      "source": [
        ""
      ]
    },
    {
      "metadata": {
        "id": "ABKsJKOWZLtu",
        "colab_type": "code",
        "colab": {
          "base_uri": "https://localhost:8080/",
          "height": 34
        },
        "outputId": "4fb84057-5262-414f-d703-ad7bf7c538fb"
      },
      "cell_type": "code",
      "source": [
        "F1_1 = 2*0.7*0.19/(0.7+0.19)\n",
        "round(F1_1,2)"
      ],
      "execution_count": 784,
      "outputs": [
        {
          "output_type": "execute_result",
          "data": {
            "text/plain": [
              "0.3"
            ]
          },
          "metadata": {
            "tags": []
          },
          "execution_count": 784
        }
      ]
    },
    {
      "metadata": {
        "id": "VaKUMFWrgeil",
        "colab_type": "code",
        "outputId": "657944a9-8657-45ea-9a04-6ad8f2893359",
        "colab": {
          "base_uri": "https://localhost:8080/",
          "height": 34
        }
      },
      "cell_type": "code",
      "source": [
        "AVG_precision =  (0.9*(7974/9147))+ (0.7*(1173/9147))\n",
        "round(AVG_precision,2)"
      ],
      "execution_count": 786,
      "outputs": [
        {
          "output_type": "execute_result",
          "data": {
            "text/plain": [
              "0.87"
            ]
          },
          "metadata": {
            "tags": []
          },
          "execution_count": 786
        }
      ]
    },
    {
      "metadata": {
        "id": "7ivhaetaUUl5",
        "colab_type": "code",
        "colab": {
          "base_uri": "https://localhost:8080/",
          "height": 34
        },
        "outputId": "08bad736-7be8-4838-9ff7-767f3eba6991"
      },
      "cell_type": "code",
      "source": [
        "AVG_Recall =  (0.99*(7974/9147))+ (0.19*(1173/9147))\n",
        "round(AVG_Recall,2)"
      ],
      "execution_count": 787,
      "outputs": [
        {
          "output_type": "execute_result",
          "data": {
            "text/plain": [
              "0.89"
            ]
          },
          "metadata": {
            "tags": []
          },
          "execution_count": 787
        }
      ]
    },
    {
      "metadata": {
        "id": "bml42bJHa3Wh",
        "colab_type": "code",
        "colab": {
          "base_uri": "https://localhost:8080/",
          "height": 34
        },
        "outputId": "1658a440-2aaa-482b-ec9a-a1daf16503b8"
      },
      "cell_type": "code",
      "source": [
        "AVG_f1 =  (0.945*(7974/9147))+ (0.445*(1173/9147))\n",
        "round(AVG_f1,2)"
      ],
      "execution_count": 788,
      "outputs": [
        {
          "output_type": "execute_result",
          "data": {
            "text/plain": [
              "0.88"
            ]
          },
          "metadata": {
            "tags": []
          },
          "execution_count": 788
        }
      ]
    },
    {
      "metadata": {
        "id": "mbzX0OLZhJZ5",
        "colab_type": "code",
        "colab": {
          "base_uri": "https://localhost:8080/",
          "height": 51
        },
        "outputId": "688934ad-3ff5-422a-cbec-4d5a95303841"
      },
      "cell_type": "code",
      "source": [
        "cm"
      ],
      "execution_count": 789,
      "outputs": [
        {
          "output_type": "execute_result",
          "data": {
            "text/plain": [
              "array([[7881,   93],\n",
              "       [ 952,  221]])"
            ]
          },
          "metadata": {
            "tags": []
          },
          "execution_count": 789
        }
      ]
    },
    {
      "metadata": {
        "id": "raWmxCE74QaL",
        "colab_type": "code",
        "colab": {}
      },
      "cell_type": "code",
      "source": [
        ""
      ],
      "execution_count": 0,
      "outputs": []
    },
    {
      "metadata": {
        "id": "AGBWUThDupjr",
        "colab_type": "code",
        "colab": {}
      },
      "cell_type": "code",
      "source": [
        ""
      ],
      "execution_count": 0,
      "outputs": []
    },
    {
      "metadata": {
        "id": "-NKa99DnsF-x",
        "colab_type": "code",
        "colab": {}
      },
      "cell_type": "code",
      "source": [
        ""
      ],
      "execution_count": 0,
      "outputs": []
    },
    {
      "metadata": {
        "id": "Tm-SyHaWwIHl",
        "colab_type": "code",
        "colab": {}
      },
      "cell_type": "code",
      "source": [
        ""
      ],
      "execution_count": 0,
      "outputs": []
    },
    {
      "metadata": {
        "id": "ulcIbLxhwgJz",
        "colab_type": "code",
        "colab": {}
      },
      "cell_type": "code",
      "source": [
        ""
      ],
      "execution_count": 0,
      "outputs": []
    },
    {
      "metadata": {
        "id": "OMOL2Cppwp1_",
        "colab_type": "code",
        "colab": {}
      },
      "cell_type": "code",
      "source": [
        ""
      ],
      "execution_count": 0,
      "outputs": []
    },
    {
      "metadata": {
        "id": "AvnAFmd_xRJt",
        "colab_type": "code",
        "colab": {}
      },
      "cell_type": "code",
      "source": [
        ""
      ],
      "execution_count": 0,
      "outputs": []
    },
    {
      "metadata": {
        "id": "7FGsVEEK4DRk",
        "colab_type": "code",
        "colab": {}
      },
      "cell_type": "code",
      "source": [
        ""
      ],
      "execution_count": 0,
      "outputs": []
    }
  ]
}