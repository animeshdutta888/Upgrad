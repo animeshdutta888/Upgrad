{
  "nbformat": 4,
  "nbformat_minor": 0,
  "metadata": {
    "colab": {
      "name": "Upgrad.ipynb",
      "version": "0.3.2",
      "provenance": [],
      "include_colab_link": true
    },
    "kernelspec": {
      "display_name": "Python 3",
      "language": "python",
      "name": "python3"
    }
  },
  "cells": [
    {
      "cell_type": "markdown",
      "metadata": {
        "id": "view-in-github",
        "colab_type": "text"
      },
      "source": [
        "<a href=\"https://colab.research.google.com/github/animeshdutta888/Upgrad/blob/master/Upgrad.ipynb\" target=\"_parent\"><img src=\"https://colab.research.google.com/assets/colab-badge.svg\" alt=\"Open In Colab\"/></a>"
      ]
    },
    {
      "metadata": {
        "id": "50SaehwqTJqa",
        "colab_type": "code",
        "colab": {}
      },
      "cell_type": "code",
      "source": [
        "# !wget --header=\"Host: doc-0g-bk-docs.googleusercontent.com\" --header=\"User-Agent: Mozilla/5.0 (X11; Linux x86_64) AppleWebKit/537.36 (KHTML, like Gecko) Chrome/73.0.3683.75 Safari/537.36\" --header=\"Accept: text/html,application/xhtml+xml,application/xml;q=0.9,image/webp,image/apng,*/*;q=0.8\" --header=\"Accept-Language: en-US,en-IN;q=0.9,en;q=0.8\" --header=\"Referer: https://drive.google.com/uc?id=1wpOtr264MFYrN1QVkpHug_jJ2Z8Eik85&export=download\" --header=\"Cookie: AUTH_4bopc2hc8l34lnvure9p0f69o32upi3p_nonce=c6uhnue2s1nko; NID=162=dN9p5hojnjtNxQlJ9H2wVK1aumNobi8Aj0XWAhkg1hB7Er3vQZtHYlT86HCBYZfQHWz2bZi0FMmtHi_CP1aRF1PDB5BUzZSv-do9OFo2fvh04TdWdU78G3sj7dgsk3507V0Z6CJI9WxFGbvff9Db8ZV_NzjATAcjWKXMnQSlCUE\" --header=\"Connection: keep-alive\" \"https://doc-0g-bk-docs.googleusercontent.com/docs/securesc/psusq0mr93vn4rl25l4i1rlqvv3toc55/dbkm7hhtpisdqqpcd6m4f63c823h601k/1553911200000/02500186615322573913/17243280734409231109/1wpOtr264MFYrN1QVkpHug_jJ2Z8Eik85?e=download&nonce=c6uhnue2s1nko&user=17243280734409231109&hash=bh3d9i0jjqu8hrhfch84konrpitqaj26\" -O \"train.zip\" -c"
      ],
      "execution_count": 0,
      "outputs": []
    },
    {
      "metadata": {
        "id": "axbUBdqZTajz",
        "colab_type": "code",
        "outputId": "f3a5b024-469d-41ed-ad45-b1d65ff0bf92",
        "colab": {
          "base_uri": "https://localhost:8080/",
          "height": 34
        }
      },
      "cell_type": "code",
      "source": [
        "import numpy as np\n",
        "import pandas as pd\n",
        "from sklearn.ensemble import RandomForestClassifier\n",
        "from sklearn import datasets\n",
        "from sklearn.model_selection import train_test_split\n",
        "from sklearn.feature_selection import SelectFromModel\n",
        "from sklearn.metrics import accuracy_score\n",
        "from google.colab import drive\n",
        "drive.mount('/content/drive/')"
      ],
      "execution_count": 580,
      "outputs": [
        {
          "output_type": "stream",
          "text": [
            "Drive already mounted at /content/drive/; to attempt to forcibly remount, call drive.mount(\"/content/drive/\", force_remount=True).\n"
          ],
          "name": "stdout"
        }
      ]
    },
    {
      "metadata": {
        "id": "6jesg5DkTJqs",
        "colab_type": "code",
        "colab": {}
      },
      "cell_type": "code",
      "source": [
        "train_df = pd.read_csv('/content/drive/My Drive/upgrad/bank-additional-full.csv',sep=';')\n",
        "train_df = train_df.replace(\"unknown\", np.NaN)\n"
      ],
      "execution_count": 0,
      "outputs": []
    },
    {
      "metadata": {
        "id": "gOmTU0sspM2v",
        "colab_type": "code",
        "colab": {
          "base_uri": "https://localhost:8080/",
          "height": 34
        },
        "outputId": "4983b67a-b4be-423f-bae3-4f9e1c7a0ffc"
      },
      "cell_type": "code",
      "source": [
        "# drop rows with missing values\n",
        "train_df.dropna(inplace=True)\n",
        "# summarize the number of rows and columns in the dataset\n",
        "print(train_df.shape)"
      ],
      "execution_count": 636,
      "outputs": [
        {
          "output_type": "stream",
          "text": [
            "(30488, 21)\n"
          ],
          "name": "stdout"
        }
      ]
    },
    {
      "metadata": {
        "id": "WpN7gDRETJqh",
        "colab_type": "code",
        "colab": {}
      },
      "cell_type": "code",
      "source": [
        ""
      ],
      "execution_count": 0,
      "outputs": []
    },
    {
      "metadata": {
        "id": "7L28DXlpTJqm",
        "colab_type": "code",
        "outputId": "4a63b518-a7c6-4112-c92e-a547685b347e",
        "colab": {
          "base_uri": "https://localhost:8080/",
          "height": 359
        }
      },
      "cell_type": "code",
      "source": [
        "train_df.corr()  #find co-relation and drop highly co-related columns"
      ],
      "execution_count": 637,
      "outputs": [
        {
          "output_type": "execute_result",
          "data": {
            "text/html": [
              "<div>\n",
              "<style scoped>\n",
              "    .dataframe tbody tr th:only-of-type {\n",
              "        vertical-align: middle;\n",
              "    }\n",
              "\n",
              "    .dataframe tbody tr th {\n",
              "        vertical-align: top;\n",
              "    }\n",
              "\n",
              "    .dataframe thead th {\n",
              "        text-align: right;\n",
              "    }\n",
              "</style>\n",
              "<table border=\"1\" class=\"dataframe\">\n",
              "  <thead>\n",
              "    <tr style=\"text-align: right;\">\n",
              "      <th></th>\n",
              "      <th>age</th>\n",
              "      <th>duration</th>\n",
              "      <th>campaign</th>\n",
              "      <th>pdays</th>\n",
              "      <th>previous</th>\n",
              "      <th>emp.var.rate</th>\n",
              "      <th>cons.price.idx</th>\n",
              "      <th>cons.conf.idx</th>\n",
              "      <th>euribor3m</th>\n",
              "      <th>nr.employed</th>\n",
              "    </tr>\n",
              "  </thead>\n",
              "  <tbody>\n",
              "    <tr>\n",
              "      <th>age</th>\n",
              "      <td>1.000000</td>\n",
              "      <td>0.007910</td>\n",
              "      <td>-0.002364</td>\n",
              "      <td>-0.050891</td>\n",
              "      <td>0.049231</td>\n",
              "      <td>-0.050409</td>\n",
              "      <td>-0.035762</td>\n",
              "      <td>0.125017</td>\n",
              "      <td>-0.036481</td>\n",
              "      <td>-0.064586</td>\n",
              "    </tr>\n",
              "    <tr>\n",
              "      <th>duration</th>\n",
              "      <td>0.007910</td>\n",
              "      <td>1.000000</td>\n",
              "      <td>-0.068406</td>\n",
              "      <td>-0.046239</td>\n",
              "      <td>0.018772</td>\n",
              "      <td>-0.023374</td>\n",
              "      <td>0.012768</td>\n",
              "      <td>-0.009525</td>\n",
              "      <td>-0.028922</td>\n",
              "      <td>-0.040367</td>\n",
              "    </tr>\n",
              "    <tr>\n",
              "      <th>campaign</th>\n",
              "      <td>-0.002364</td>\n",
              "      <td>-0.068406</td>\n",
              "      <td>1.000000</td>\n",
              "      <td>0.054312</td>\n",
              "      <td>-0.080766</td>\n",
              "      <td>0.157739</td>\n",
              "      <td>0.127260</td>\n",
              "      <td>-0.011664</td>\n",
              "      <td>0.140836</td>\n",
              "      <td>0.148069</td>\n",
              "    </tr>\n",
              "    <tr>\n",
              "      <th>pdays</th>\n",
              "      <td>-0.050891</td>\n",
              "      <td>-0.046239</td>\n",
              "      <td>0.054312</td>\n",
              "      <td>1.000000</td>\n",
              "      <td>-0.590248</td>\n",
              "      <td>0.268763</td>\n",
              "      <td>0.068010</td>\n",
              "      <td>-0.102368</td>\n",
              "      <td>0.295188</td>\n",
              "      <td>0.370845</td>\n",
              "    </tr>\n",
              "    <tr>\n",
              "      <th>previous</th>\n",
              "      <td>0.049231</td>\n",
              "      <td>0.018772</td>\n",
              "      <td>-0.080766</td>\n",
              "      <td>-0.590248</td>\n",
              "      <td>1.000000</td>\n",
              "      <td>-0.403502</td>\n",
              "      <td>-0.176775</td>\n",
              "      <td>-0.027930</td>\n",
              "      <td>-0.438863</td>\n",
              "      <td>-0.488365</td>\n",
              "    </tr>\n",
              "    <tr>\n",
              "      <th>emp.var.rate</th>\n",
              "      <td>-0.050409</td>\n",
              "      <td>-0.023374</td>\n",
              "      <td>0.157739</td>\n",
              "      <td>0.268763</td>\n",
              "      <td>-0.403502</td>\n",
              "      <td>1.000000</td>\n",
              "      <td>0.766055</td>\n",
              "      <td>0.157593</td>\n",
              "      <td>0.969412</td>\n",
              "      <td>0.900390</td>\n",
              "    </tr>\n",
              "    <tr>\n",
              "      <th>cons.price.idx</th>\n",
              "      <td>-0.035762</td>\n",
              "      <td>0.012768</td>\n",
              "      <td>0.127260</td>\n",
              "      <td>0.068010</td>\n",
              "      <td>-0.176775</td>\n",
              "      <td>0.766055</td>\n",
              "      <td>1.000000</td>\n",
              "      <td>0.027217</td>\n",
              "      <td>0.667292</td>\n",
              "      <td>0.488871</td>\n",
              "    </tr>\n",
              "    <tr>\n",
              "      <th>cons.conf.idx</th>\n",
              "      <td>0.125017</td>\n",
              "      <td>-0.009525</td>\n",
              "      <td>-0.011664</td>\n",
              "      <td>-0.102368</td>\n",
              "      <td>-0.027930</td>\n",
              "      <td>0.157593</td>\n",
              "      <td>0.027217</td>\n",
              "      <td>1.000000</td>\n",
              "      <td>0.243637</td>\n",
              "      <td>0.075283</td>\n",
              "    </tr>\n",
              "    <tr>\n",
              "      <th>euribor3m</th>\n",
              "      <td>-0.036481</td>\n",
              "      <td>-0.028922</td>\n",
              "      <td>0.140836</td>\n",
              "      <td>0.295188</td>\n",
              "      <td>-0.438863</td>\n",
              "      <td>0.969412</td>\n",
              "      <td>0.667292</td>\n",
              "      <td>0.243637</td>\n",
              "      <td>1.000000</td>\n",
              "      <td>0.944871</td>\n",
              "    </tr>\n",
              "    <tr>\n",
              "      <th>nr.employed</th>\n",
              "      <td>-0.064586</td>\n",
              "      <td>-0.040367</td>\n",
              "      <td>0.148069</td>\n",
              "      <td>0.370845</td>\n",
              "      <td>-0.488365</td>\n",
              "      <td>0.900390</td>\n",
              "      <td>0.488871</td>\n",
              "      <td>0.075283</td>\n",
              "      <td>0.944871</td>\n",
              "      <td>1.000000</td>\n",
              "    </tr>\n",
              "  </tbody>\n",
              "</table>\n",
              "</div>"
            ],
            "text/plain": [
              "                     age  duration  campaign     pdays  previous  \\\n",
              "age             1.000000  0.007910 -0.002364 -0.050891  0.049231   \n",
              "duration        0.007910  1.000000 -0.068406 -0.046239  0.018772   \n",
              "campaign       -0.002364 -0.068406  1.000000  0.054312 -0.080766   \n",
              "pdays          -0.050891 -0.046239  0.054312  1.000000 -0.590248   \n",
              "previous        0.049231  0.018772 -0.080766 -0.590248  1.000000   \n",
              "emp.var.rate   -0.050409 -0.023374  0.157739  0.268763 -0.403502   \n",
              "cons.price.idx -0.035762  0.012768  0.127260  0.068010 -0.176775   \n",
              "cons.conf.idx   0.125017 -0.009525 -0.011664 -0.102368 -0.027930   \n",
              "euribor3m      -0.036481 -0.028922  0.140836  0.295188 -0.438863   \n",
              "nr.employed    -0.064586 -0.040367  0.148069  0.370845 -0.488365   \n",
              "\n",
              "                emp.var.rate  cons.price.idx  cons.conf.idx  euribor3m  \\\n",
              "age                -0.050409       -0.035762       0.125017  -0.036481   \n",
              "duration           -0.023374        0.012768      -0.009525  -0.028922   \n",
              "campaign            0.157739        0.127260      -0.011664   0.140836   \n",
              "pdays               0.268763        0.068010      -0.102368   0.295188   \n",
              "previous           -0.403502       -0.176775      -0.027930  -0.438863   \n",
              "emp.var.rate        1.000000        0.766055       0.157593   0.969412   \n",
              "cons.price.idx      0.766055        1.000000       0.027217   0.667292   \n",
              "cons.conf.idx       0.157593        0.027217       1.000000   0.243637   \n",
              "euribor3m           0.969412        0.667292       0.243637   1.000000   \n",
              "nr.employed         0.900390        0.488871       0.075283   0.944871   \n",
              "\n",
              "                nr.employed  \n",
              "age               -0.064586  \n",
              "duration          -0.040367  \n",
              "campaign           0.148069  \n",
              "pdays              0.370845  \n",
              "previous          -0.488365  \n",
              "emp.var.rate       0.900390  \n",
              "cons.price.idx     0.488871  \n",
              "cons.conf.idx      0.075283  \n",
              "euribor3m          0.944871  \n",
              "nr.employed        1.000000  "
            ]
          },
          "metadata": {
            "tags": []
          },
          "execution_count": 637
        }
      ]
    },
    {
      "metadata": {
        "id": "unR9FCmyTJqo",
        "colab_type": "code",
        "colab": {}
      },
      "cell_type": "code",
      "source": [
        "train_df.drop(['euribor3m','nr.employed'],axis=1,inplace=True)"
      ],
      "execution_count": 0,
      "outputs": []
    },
    {
      "metadata": {
        "id": "QIn0i1FTTJqv",
        "colab_type": "code",
        "colab": {}
      },
      "cell_type": "code",
      "source": [
        "train_df.y=train_df.y.eq('yes').mul(1)\n"
      ],
      "execution_count": 0,
      "outputs": []
    },
    {
      "metadata": {
        "id": "rlJstORHz9tN",
        "colab_type": "code",
        "colab": {
          "base_uri": "https://localhost:8080/",
          "height": 85
        },
        "outputId": "dd8cea92-4683-493a-e5a1-dda955f808a0"
      },
      "cell_type": "code",
      "source": [
        "train_df.groupby(['y']).size()\n"
      ],
      "execution_count": 640,
      "outputs": [
        {
          "output_type": "execute_result",
          "data": {
            "text/plain": [
              "y\n",
              "0    26629\n",
              "1     3859\n",
              "dtype: int64"
            ]
          },
          "metadata": {
            "tags": []
          },
          "execution_count": 640
        }
      ]
    },
    {
      "metadata": {
        "id": "zWP7U2l9QvVP",
        "colab_type": "code",
        "colab": {}
      },
      "cell_type": "code",
      "source": [
        "train_df[\"duration\"] = train_df[\"duration\"] / train_df[\"duration\"].max()\n",
        "\n"
      ],
      "execution_count": 0,
      "outputs": []
    },
    {
      "metadata": {
        "id": "Eo1xWOjTayFx",
        "colab_type": "code",
        "colab": {}
      },
      "cell_type": "code",
      "source": [
        "X = pd.get_dummies(train_df, prefix_sep='_', drop_first=False)       #One-hot-encoding\n",
        "\n",
        "\n"
      ],
      "execution_count": 0,
      "outputs": []
    },
    {
      "metadata": {
        "id": "HwcKcdNxWIw9",
        "colab_type": "code",
        "colab": {}
      },
      "cell_type": "code",
      "source": [
        "from sklearn.model_selection import train_test_split\n",
        "\n",
        "# We'll use this library to make the display pretty\n",
        "from tabulate import tabulate"
      ],
      "execution_count": 0,
      "outputs": []
    },
    {
      "metadata": {
        "id": "D309KplwYleC",
        "colab_type": "code",
        "colab": {}
      },
      "cell_type": "code",
      "source": [
        "y = X.y\n",
        "X = X.drop([\"y\"], axis=1)\n",
        "list1=X.columns.values.tolist()\n",
        "np.random.seed(seed=10)\n",
        "\n",
        "X_train, X_test, y_train, y_test = train_test_split(X, y, random_state=42, test_size=.30)\n"
      ],
      "execution_count": 0,
      "outputs": []
    },
    {
      "metadata": {
        "id": "r026ohgj3jYq",
        "colab_type": "code",
        "colab": {
          "base_uri": "https://localhost:8080/",
          "height": 1173
        },
        "outputId": "47d613df-fccd-4aa2-8e28-c08e2d208d5c"
      },
      "cell_type": "code",
      "source": [
        "from sklearn.ensemble import RandomForestClassifier\n",
        "\n",
        "#Create a Gaussian Classifier\n",
        "clf=RandomForestClassifier(n_estimators=300)\n",
        "\n",
        "#Train the model using the training sets y_pred=clf.predict(X_test)\n",
        "clf.fit(X_train,y_train)\n",
        "RandomForestClassifier(bootstrap=True, class_weight=None, criterion='gini',\n",
        "            max_depth=None, max_features='auto', max_leaf_nodes=None,\n",
        "            min_impurity_decrease=0.0, min_impurity_split=None,\n",
        "            min_samples_leaf=1, min_samples_split=2,\n",
        "            min_weight_fraction_leaf=0.0, n_estimators=500, n_jobs=2,\n",
        "            oob_score=False, random_state=None, verbose=0,\n",
        "            warm_start=False)\n",
        "import pandas as pd\n",
        "feature_imp = pd.Series(clf.feature_importances_,index=list1).sort_values(ascending=True)\n",
        "feature_imp"
      ],
      "execution_count": 649,
      "outputs": [
        {
          "output_type": "execute_result",
          "data": {
            "text/plain": [
              "RandomForestClassifier(bootstrap=True, class_weight=None, criterion='gini',\n",
              "            max_depth=None, max_features='auto', max_leaf_nodes=None,\n",
              "            min_impurity_decrease=0.0, min_impurity_split=None,\n",
              "            min_samples_leaf=1, min_samples_split=2,\n",
              "            min_weight_fraction_leaf=0.0, n_estimators=300, n_jobs=None,\n",
              "            oob_score=False, random_state=None, verbose=0,\n",
              "            warm_start=False)"
            ]
          },
          "metadata": {
            "tags": []
          },
          "execution_count": 649
        },
        {
          "output_type": "execute_result",
          "data": {
            "text/plain": [
              "RandomForestClassifier(bootstrap=True, class_weight=None, criterion='gini',\n",
              "            max_depth=None, max_features='auto', max_leaf_nodes=None,\n",
              "            min_impurity_decrease=0.0, min_impurity_split=None,\n",
              "            min_samples_leaf=1, min_samples_split=2,\n",
              "            min_weight_fraction_leaf=0.0, n_estimators=500, n_jobs=2,\n",
              "            oob_score=False, random_state=None, verbose=0,\n",
              "            warm_start=False)"
            ]
          },
          "metadata": {
            "tags": []
          },
          "execution_count": 649
        },
        {
          "output_type": "execute_result",
          "data": {
            "text/plain": [
              "default_yes                      7.382781e-09\n",
              "default_no                       3.519499e-08\n",
              "education_illiterate             1.779426e-04\n",
              "month_dec                        1.244187e-03\n",
              "job_housemaid                    3.103926e-03\n",
              "education_basic.6y               3.989425e-03\n",
              "month_nov                        4.019944e-03\n",
              "job_unemployed                   4.024679e-03\n",
              "month_jul                        4.101343e-03\n",
              "job_entrepreneur                 4.130374e-03\n",
              "month_aug                        4.259547e-03\n",
              "job_student                      4.382174e-03\n",
              "job_self-employed                4.447804e-03\n",
              "month_sep                        4.492625e-03\n",
              "month_apr                        4.981425e-03\n",
              "month_jun                        5.507172e-03\n",
              "education_basic.4y               5.893939e-03\n",
              "job_retired                      6.226962e-03\n",
              "job_services                     6.714466e-03\n",
              "job_management                   7.436892e-03\n",
              "contact_cellular                 7.504180e-03\n",
              "month_mar                        7.810815e-03\n",
              "contact_telephone                7.826293e-03\n",
              "marital_divorced                 8.037714e-03\n",
              "education_basic.9y               8.130042e-03\n",
              "poutcome_failure                 8.267447e-03\n",
              "poutcome_nonexistent             8.460152e-03\n",
              "job_blue-collar                  8.560506e-03\n",
              "month_may                        8.609838e-03\n",
              "month_oct                        8.752230e-03\n",
              "education_professional.course    9.253248e-03\n",
              "loan_yes                         9.293664e-03\n",
              "loan_no                          9.605568e-03\n",
              "job_technician                   1.075343e-02\n",
              "marital_single                   1.232793e-02\n",
              "education_high.school            1.244229e-02\n",
              "day_of_week_fri                  1.246064e-02\n",
              "day_of_week_wed                  1.258337e-02\n",
              "marital_married                  1.291795e-02\n",
              "day_of_week_tue                  1.321598e-02\n",
              "day_of_week_mon                  1.332698e-02\n",
              "education_university.degree      1.384548e-02\n",
              "job_admin.                       1.398302e-02\n",
              "day_of_week_thu                  1.409415e-02\n",
              "housing_yes                      1.425801e-02\n",
              "housing_no                       1.449063e-02\n",
              "previous                         1.531241e-02\n",
              "poutcome_success                 3.661179e-02\n",
              "pdays                            3.942618e-02\n",
              "cons.price.idx                   4.335017e-02\n",
              "campaign                         4.379012e-02\n",
              "emp.var.rate                     4.415536e-02\n",
              "cons.conf.idx                    4.904268e-02\n",
              "age                              9.197180e-02\n",
              "duration                         2.763931e-01\n",
              "dtype: float64"
            ]
          },
          "metadata": {
            "tags": []
          },
          "execution_count": 649
        }
      ]
    },
    {
      "metadata": {
        "id": "L12_otXM36PO",
        "colab_type": "code",
        "colab": {
          "base_uri": "https://localhost:8080/",
          "height": 139
        },
        "outputId": "d724eb3a-62fc-4c3e-d340-f3c89eca40c4"
      },
      "cell_type": "code",
      "source": [
        "from sklearn.preprocessing import StandardScaler\n",
        "np.random.seed(seed=10)\n",
        "\n",
        "sc = StandardScaler()  \n",
        "X_train1 = sc.fit_transform(X_train)  \n",
        "X_test1 = sc.transform(X_test)  "
      ],
      "execution_count": 650,
      "outputs": [
        {
          "output_type": "stream",
          "text": [
            "/usr/local/lib/python3.6/dist-packages/sklearn/preprocessing/data.py:645: DataConversionWarning: Data with input dtype uint8, int64, float64 were all converted to float64 by StandardScaler.\n",
            "  return self.partial_fit(X, y)\n",
            "/usr/local/lib/python3.6/dist-packages/sklearn/base.py:464: DataConversionWarning: Data with input dtype uint8, int64, float64 were all converted to float64 by StandardScaler.\n",
            "  return self.fit(X, **fit_params).transform(X)\n",
            "/usr/local/lib/python3.6/dist-packages/ipykernel_launcher.py:6: DataConversionWarning: Data with input dtype uint8, int64, float64 were all converted to float64 by StandardScaler.\n",
            "  \n"
          ],
          "name": "stderr"
        }
      ]
    },
    {
      "metadata": {
        "id": "h6bKQ2C8XpbJ",
        "colab_type": "text"
      },
      "cell_type": "markdown",
      "source": [
        ""
      ]
    },
    {
      "metadata": {
        "id": "G2gjowkT5gF3",
        "colab_type": "code",
        "colab": {
          "base_uri": "https://localhost:8080/",
          "height": 51
        },
        "outputId": "639e2233-4a22-4a6d-b6f3-fbe441331eae"
      },
      "cell_type": "code",
      "source": [
        "from sklearn.discriminant_analysis import LinearDiscriminantAnalysis as LDA\n",
        "\n",
        "lda = LDA(n_components=1)  \n",
        "y_train1=y_train\n",
        "y_test1=y_test\n",
        "X_train1 = lda.fit_transform(X_train1, y_train1)  \n",
        "X_test1 = lda.transform(X_test1)  \n"
      ],
      "execution_count": 651,
      "outputs": [
        {
          "output_type": "stream",
          "text": [
            "/usr/local/lib/python3.6/dist-packages/sklearn/discriminant_analysis.py:388: UserWarning: Variables are collinear.\n",
            "  warnings.warn(\"Variables are collinear.\")\n"
          ],
          "name": "stderr"
        }
      ]
    },
    {
      "metadata": {
        "id": "q7-eEQQH5hTT",
        "colab_type": "code",
        "colab": {
          "base_uri": "https://localhost:8080/",
          "height": 136
        },
        "outputId": "86e7eacb-703a-45cb-977f-aa0287bc6886"
      },
      "cell_type": "code",
      "source": [
        "from sklearn.metrics import confusion_matrix  \n",
        "from sklearn.metrics import accuracy_score\n",
        "from sklearn.ensemble import RandomForestClassifier\n",
        "np.random.seed(seed=10)\n",
        "\n",
        "classifier = RandomForestClassifier(max_depth=2,n_jobs=-1, n_estimators=100,class_weight={0:18,1:12})\n",
        "classifier.fit(X_train1, y_train1)  \n",
        "y_pred1 = classifier.predict(X_test1)\n"
      ],
      "execution_count": 673,
      "outputs": [
        {
          "output_type": "execute_result",
          "data": {
            "text/plain": [
              "RandomForestClassifier(bootstrap=True, class_weight={0: 18, 1: 12},\n",
              "            criterion='gini', max_depth=2, max_features='auto',\n",
              "            max_leaf_nodes=None, min_impurity_decrease=0.0,\n",
              "            min_impurity_split=None, min_samples_leaf=1,\n",
              "            min_samples_split=2, min_weight_fraction_leaf=0.0,\n",
              "            n_estimators=100, n_jobs=-1, oob_score=False,\n",
              "            random_state=None, verbose=0, warm_start=False)"
            ]
          },
          "metadata": {
            "tags": []
          },
          "execution_count": 673
        }
      ]
    },
    {
      "metadata": {
        "id": "mpAYxyKhFAaa",
        "colab_type": "code",
        "colab": {
          "base_uri": "https://localhost:8080/",
          "height": 68
        },
        "outputId": "0a1f9b58-7078-46fa-8fee-2838e462da50"
      },
      "cell_type": "code",
      "source": [
        "cm = confusion_matrix(y_test1, y_pred1) \n",
        "print(cm)  \n",
        "print('Accuracy:' + str(accuracy_score(y_test1, y_pred1)))  "
      ],
      "execution_count": 675,
      "outputs": [
        {
          "output_type": "stream",
          "text": [
            "[[7874  100]\n",
            " [ 907  266]]\n",
            "Accuracy:0.889909259866623\n"
          ],
          "name": "stdout"
        }
      ]
    },
    {
      "metadata": {
        "id": "9nT-2FJoQwm8",
        "colab_type": "code",
        "colab": {}
      },
      "cell_type": "code",
      "source": [
        ""
      ],
      "execution_count": 0,
      "outputs": []
    },
    {
      "metadata": {
        "id": "V8h28QjNWKvU",
        "colab_type": "code",
        "colab": {}
      },
      "cell_type": "code",
      "source": [
        ""
      ],
      "execution_count": 0,
      "outputs": []
    },
    {
      "metadata": {
        "id": "lKqBh6XMXOYA",
        "colab_type": "code",
        "colab": {}
      },
      "cell_type": "code",
      "source": [
        ""
      ],
      "execution_count": 0,
      "outputs": []
    },
    {
      "metadata": {
        "id": "qWf4iILK5dgm",
        "colab_type": "code",
        "colab": {
          "base_uri": "https://localhost:8080/",
          "height": 34
        },
        "outputId": "333017ad-4798-4b10-ff6a-6ae31a43fef9"
      },
      "cell_type": "code",
      "source": [
        "from sklearn.metrics import roc_curve, auc\n",
        "false_positive_rate, true_positive_rate, thresholds = roc_curve(y_test1, y_pred1)\n",
        "roc_auc = auc(false_positive_rate, true_positive_rate)\n",
        "roc_auc\n"
      ],
      "execution_count": 676,
      "outputs": [
        {
          "output_type": "execute_result",
          "data": {
            "text/plain": [
              "0.6071141054975988"
            ]
          },
          "metadata": {
            "tags": []
          },
          "execution_count": 676
        }
      ]
    },
    {
      "metadata": {
        "id": "UxqYGYgBZo00",
        "colab_type": "code",
        "colab": {
          "base_uri": "https://localhost:8080/",
          "height": 289
        },
        "outputId": "903d8f10-5730-4442-9b0b-1732b3c02673"
      },
      "cell_type": "code",
      "source": [
        "from treeinterpreter import treeinterpreter as ti\n",
        "prediction, bias, contributions = ti.predict(classifier,X_test1)\n",
        "print (\"Prediction\", prediction)\n",
        "print (\"Bias (trainset prior)\", bias)\n",
        "print (\"Feature contributions:\")\n",
        "for c, feature in zip(contributions[0], list1):\n",
        "    print(feature, c)\n"
      ],
      "execution_count": 677,
      "outputs": [
        {
          "output_type": "stream",
          "text": [
            "Prediction [[0.99255967 0.00744033]\n",
            " [0.92082259 0.07917741]\n",
            " [0.67005135 0.32994865]\n",
            " ...\n",
            " [0.99255967 0.00744033]\n",
            " [0.99255967 0.00744033]\n",
            " [0.85703399 0.14296601]]\n",
            "Bias (trainset prior) [[0.91236466 0.08763534]\n",
            " [0.91236466 0.08763534]\n",
            " [0.91236466 0.08763534]\n",
            " ...\n",
            " [0.91236466 0.08763534]\n",
            " [0.91236466 0.08763534]\n",
            " [0.91236466 0.08763534]]\n",
            "Feature contributions:\n",
            "age [ 0.08019501 -0.08019501]\n"
          ],
          "name": "stdout"
        }
      ]
    },
    {
      "metadata": {
        "id": "3WgNoY0JXzLY",
        "colab_type": "code",
        "outputId": "7b00d764-bdb4-4c34-f8ce-3eef39a66c20",
        "colab": {
          "base_uri": "https://localhost:8080/",
          "height": 51
        }
      },
      "cell_type": "code",
      "source": [
        "cm"
      ],
      "execution_count": 679,
      "outputs": [
        {
          "output_type": "execute_result",
          "data": {
            "text/plain": [
              "array([[7874,  100],\n",
              "       [ 907,  266]])"
            ]
          },
          "metadata": {
            "tags": []
          },
          "execution_count": 679
        }
      ]
    },
    {
      "metadata": {
        "id": "EDDBlkScTnX4",
        "colab_type": "code",
        "colab": {
          "base_uri": "https://localhost:8080/",
          "height": 34
        },
        "outputId": "da9639db-af60-4336-b697-ce9d4213bcc4"
      },
      "cell_type": "code",
      "source": [
        "#Recall\n",
        "print(round(7874 /(7874 + 100),2))\n"
      ],
      "execution_count": 680,
      "outputs": [
        {
          "output_type": "stream",
          "text": [
            "0.99\n"
          ],
          "name": "stdout"
        }
      ]
    },
    {
      "metadata": {
        "id": "uYfBiPxTUDoO",
        "colab_type": "text"
      },
      "cell_type": "markdown",
      "source": [
        "Recall - Specificity\n",
        "TN / (TN + FP) [ MATRIX LINE 1 ]\n",
        "\n",
        "For all NEGATIVE(0) REAL VALUES how much we predict correct ?\n",
        "\n",
        "other way to understand, our real test set has 7874+100 clients that didin't subscribe(0), and our model predict 99% correct or 7874 correct and 100 incorrect"
      ]
    },
    {
      "metadata": {
        "id": "c9n1sRewUCq_",
        "colab_type": "code",
        "colab": {
          "base_uri": "https://localhost:8080/",
          "height": 34
        },
        "outputId": "bbfeac52-f74f-4807-81ec-d8e618fe972d"
      },
      "cell_type": "code",
      "source": [
        "#Recall\n",
        "print(round(266 / (266 + 907  ),2))\n",
        "\n"
      ],
      "execution_count": 681,
      "outputs": [
        {
          "output_type": "stream",
          "text": [
            "0.23\n"
          ],
          "name": "stdout"
        }
      ]
    },
    {
      "metadata": {
        "id": "yF0Zw8wlUC5s",
        "colab_type": "text"
      },
      "cell_type": "markdown",
      "source": [
        "Recall - Sensitivity\n",
        "TP / (TP + FN) [ MATRIX LINE 2 ]\n",
        "\n",
        "For all POSITIVE(1) REAL VALUES how much we predict correct ?\n",
        "\n",
        "other way to understand, our real test set has 266+907 clients that subscribe(1), and our model predict 23% correct or 266 correct and 907 incorrect, BUT REMEMBER, its best we miss by False negative instead of False Positive"
      ]
    },
    {
      "metadata": {
        "id": "mgiPHAVf6GwY",
        "colab_type": "code",
        "colab": {
          "base_uri": "https://localhost:8080/",
          "height": 34
        },
        "outputId": "bdf59a2c-1269-43aa-8c8c-106c96fca208"
      },
      "cell_type": "code",
      "source": [
        "#Precision\n",
        "print(round(7874 / (7874 + 907),2))\n",
        "\n"
      ],
      "execution_count": 682,
      "outputs": [
        {
          "output_type": "stream",
          "text": [
            "0.9\n"
          ],
          "name": "stdout"
        }
      ]
    },
    {
      "metadata": {
        "id": "kIoxVW7qS07p",
        "colab_type": "text"
      },
      "cell_type": "markdown",
      "source": [
        "Precision\n",
        "TN / (TN + FN) [ MATRIX COLUMN 1 ]\n",
        "\n",
        "For all NEGATIVE(0) PREDICTIONS by our model, how much we predict correct ?\n",
        "\n",
        "other way to understand, our model pointed 7874 + 907  clients that didin't subscribe(0), and our model predict 90% correct or 7874 correct and 907 incorrect"
      ]
    },
    {
      "metadata": {
        "id": "_MJtzRVV6G_g",
        "colab_type": "code",
        "colab": {
          "base_uri": "https://localhost:8080/",
          "height": 34
        },
        "outputId": "0c733c0e-2de7-4916-bb80-e9023ad0fd69"
      },
      "cell_type": "code",
      "source": [
        "#Precision\n",
        "print(round(266 / (266 + 100),2))\n"
      ],
      "execution_count": 683,
      "outputs": [
        {
          "output_type": "stream",
          "text": [
            "0.73\n"
          ],
          "name": "stdout"
        }
      ]
    },
    {
      "metadata": {
        "id": "lF0F-BRJWoxt",
        "colab_type": "text"
      },
      "cell_type": "markdown",
      "source": [
        "TN / (TN + FN) [ MATRIX COLUMN 1 ]\n",
        "\n",
        "For all POSITIVE(1) PREDICTIONS by our model, how much we predict correct ?\n",
        "\n",
        "other way to understand, our model pointed 266+100 clients that subscribe(1), and our model predict 73% correct or 266 correct and 100 incorrect"
      ]
    },
    {
      "metadata": {
        "colab_type": "code",
        "outputId": "54f015ab-2292-472d-b8bc-26bbcb37ed0b",
        "id": "njuvm-Ap5G8R",
        "colab": {
          "base_uri": "https://localhost:8080/",
          "height": 34
        }
      },
      "cell_type": "code",
      "source": [
        "F1_0 = 2*0.9*0.99/(0.9+0.99)\n",
        "round(F1_0,2)"
      ],
      "execution_count": 684,
      "outputs": [
        {
          "output_type": "execute_result",
          "data": {
            "text/plain": [
              "0.94"
            ]
          },
          "metadata": {
            "tags": []
          },
          "execution_count": 684
        }
      ]
    },
    {
      "metadata": {
        "id": "E-dOe8j3TSxC",
        "colab_type": "text"
      },
      "cell_type": "markdown",
      "source": [
        ""
      ]
    },
    {
      "metadata": {
        "id": "ABKsJKOWZLtu",
        "colab_type": "code",
        "colab": {
          "base_uri": "https://localhost:8080/",
          "height": 34
        },
        "outputId": "d32587ce-2247-4bdf-92a9-01c4e25c67e7"
      },
      "cell_type": "code",
      "source": [
        "F1_1 = 2*0.73*0.23/(0.73+0.23)\n",
        "round(F1_1,2)"
      ],
      "execution_count": 685,
      "outputs": [
        {
          "output_type": "execute_result",
          "data": {
            "text/plain": [
              "0.35"
            ]
          },
          "metadata": {
            "tags": []
          },
          "execution_count": 685
        }
      ]
    },
    {
      "metadata": {
        "id": "VaKUMFWrgeil",
        "colab_type": "code",
        "outputId": "53e813d3-0d82-4a8f-ba82-6339cab39acb",
        "colab": {
          "base_uri": "https://localhost:8080/",
          "height": 34
        }
      },
      "cell_type": "code",
      "source": [
        "AVG_precision =  (0.9*(7974/9147))+ (0.73*(1173/9147))\n",
        "round(AVG_precision,2)"
      ],
      "execution_count": 686,
      "outputs": [
        {
          "output_type": "execute_result",
          "data": {
            "text/plain": [
              "0.88"
            ]
          },
          "metadata": {
            "tags": []
          },
          "execution_count": 686
        }
      ]
    },
    {
      "metadata": {
        "id": "7ivhaetaUUl5",
        "colab_type": "code",
        "colab": {
          "base_uri": "https://localhost:8080/",
          "height": 34
        },
        "outputId": "787425ac-cfe0-4389-9c11-381c1c72fb7b"
      },
      "cell_type": "code",
      "source": [
        "AVG_Recall =  (0.99*(7974/9147))+ (0.23*(1173/9147))\n",
        "round(AVG_Recall,2)"
      ],
      "execution_count": 687,
      "outputs": [
        {
          "output_type": "execute_result",
          "data": {
            "text/plain": [
              "0.89"
            ]
          },
          "metadata": {
            "tags": []
          },
          "execution_count": 687
        }
      ]
    },
    {
      "metadata": {
        "id": "bml42bJHa3Wh",
        "colab_type": "code",
        "colab": {
          "base_uri": "https://localhost:8080/",
          "height": 34
        },
        "outputId": "cec0684e-3146-4bc7-cc0d-6aba642c324d"
      },
      "cell_type": "code",
      "source": [
        "AVG_f1 =  (0.945*(7974/9147))+ (0.48*(1173/9147))\n",
        "round(AVG_f1,2)"
      ],
      "execution_count": 688,
      "outputs": [
        {
          "output_type": "execute_result",
          "data": {
            "text/plain": [
              "0.89"
            ]
          },
          "metadata": {
            "tags": []
          },
          "execution_count": 688
        }
      ]
    },
    {
      "metadata": {
        "id": "mbzX0OLZhJZ5",
        "colab_type": "code",
        "colab": {
          "base_uri": "https://localhost:8080/",
          "height": 51
        },
        "outputId": "0586ac50-9b33-4c55-d677-c8727d2c67d8"
      },
      "cell_type": "code",
      "source": [
        "cm"
      ],
      "execution_count": 689,
      "outputs": [
        {
          "output_type": "execute_result",
          "data": {
            "text/plain": [
              "array([[7874,  100],\n",
              "       [ 907,  266]])"
            ]
          },
          "metadata": {
            "tags": []
          },
          "execution_count": 689
        }
      ]
    },
    {
      "metadata": {
        "id": "raWmxCE74QaL",
        "colab_type": "code",
        "colab": {}
      },
      "cell_type": "code",
      "source": [
        ""
      ],
      "execution_count": 0,
      "outputs": []
    },
    {
      "metadata": {
        "id": "AGBWUThDupjr",
        "colab_type": "code",
        "colab": {}
      },
      "cell_type": "code",
      "source": [
        ""
      ],
      "execution_count": 0,
      "outputs": []
    },
    {
      "metadata": {
        "id": "-NKa99DnsF-x",
        "colab_type": "code",
        "colab": {}
      },
      "cell_type": "code",
      "source": [
        ""
      ],
      "execution_count": 0,
      "outputs": []
    },
    {
      "metadata": {
        "id": "Tm-SyHaWwIHl",
        "colab_type": "code",
        "colab": {}
      },
      "cell_type": "code",
      "source": [
        ""
      ],
      "execution_count": 0,
      "outputs": []
    },
    {
      "metadata": {
        "id": "ulcIbLxhwgJz",
        "colab_type": "code",
        "colab": {}
      },
      "cell_type": "code",
      "source": [
        ""
      ],
      "execution_count": 0,
      "outputs": []
    },
    {
      "metadata": {
        "id": "OMOL2Cppwp1_",
        "colab_type": "code",
        "colab": {}
      },
      "cell_type": "code",
      "source": [
        ""
      ],
      "execution_count": 0,
      "outputs": []
    },
    {
      "metadata": {
        "id": "AvnAFmd_xRJt",
        "colab_type": "code",
        "colab": {}
      },
      "cell_type": "code",
      "source": [
        ""
      ],
      "execution_count": 0,
      "outputs": []
    },
    {
      "metadata": {
        "id": "7FGsVEEK4DRk",
        "colab_type": "code",
        "colab": {}
      },
      "cell_type": "code",
      "source": [
        ""
      ],
      "execution_count": 0,
      "outputs": []
    }
  ]
}